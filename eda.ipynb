{
  "cells": [
    {
      "cell_type": "markdown",
      "id": "4f415bd2",
      "metadata": {
        "id": "4f415bd2"
      },
      "source": [
        "# TritonHacks 2025 - AI/ML Starter Kit Part 1: Exploratory Data Analysis (EDA)\n",
        "\n",
        "Welcome to the TritonHacks 2025 AI/ML Starter Kit!"
      ]
    },
    {
      "cell_type": "code",
      "execution_count": 1,
      "id": "61d68012",
      "metadata": {
        "vscode": {
          "languageId": "plaintext"
        },
        "id": "61d68012",
        "outputId": "7333ee45-9a8c-460a-b8b1-f7c12c1e8bf6",
        "colab": {
          "base_uri": "https://localhost:8080/",
          "height": 108
        }
      },
      "outputs": [
        {
          "output_type": "error",
          "ename": "SyntaxError",
          "evalue": "invalid syntax (<ipython-input-1-9f32291a798b>, line 1)",
          "traceback": [
            "\u001b[0;36m  File \u001b[0;32m\"<ipython-input-1-9f32291a798b>\"\u001b[0;36m, line \u001b[0;32m1\u001b[0m\n\u001b[0;31m    can i change stuff\u001b[0m\n\u001b[0m        ^\u001b[0m\n\u001b[0;31mSyntaxError\u001b[0m\u001b[0;31m:\u001b[0m invalid syntax\n"
          ]
        }
      ],
      "source": [
        "can i change stuff"
      ]
    },
    {
      "cell_type": "code",
      "source": [],
      "metadata": {
        "id": "Pr6homc6E45N"
      },
      "id": "Pr6homc6E45N",
      "execution_count": null,
      "outputs": []
    }
  ],
  "metadata": {
    "language_info": {
      "name": "python"
    },
    "colab": {
      "provenance": []
    },
    "kernelspec": {
      "name": "python3",
      "display_name": "Python 3"
    }
  },
  "nbformat": 4,
  "nbformat_minor": 5
}