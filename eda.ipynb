{
  "nbformat": 4,
  "nbformat_minor": 0,
  "metadata": {
    "colab": {
      "provenance": [],
      "authorship_tag": "ABX9TyM4JMqlktzgQsaR99i6xSzP",
      "include_colab_link": true
    },
    "kernelspec": {
      "name": "python3",
      "display_name": "Python 3"
    },
    "language_info": {
      "name": "python"
    }
  },
  "cells": [
    {
      "cell_type": "markdown",
      "metadata": {
        "id": "view-in-github",
        "colab_type": "text"
      },
      "source": [
        "<a href=\"https://colab.research.google.com/github/nick01as/AI-ML-starter-kit/blob/AshishBamba05-patch-1/eda2.ipynb\" target=\"_parent\"><img src=\"https://colab.research.google.com/assets/colab-badge.svg\" alt=\"Open In Colab\"/></a>"
      ]
    },
    {
      "cell_type": "markdown",
      "source": [
        "# TritonHacks 2025: Introduction to AI/ML Starter Kit\n",
        "\n",
        "Welcome to the Intro to AI/ML Starter Kit for TritonHacks 2025!"
      ],
      "metadata": {
        "id": "ns4H87KcwnMp"
      }
    },
    {
      "cell_type": "code",
      "source": [
        "import numpy as np\n",
        "import pandas as pd\n",
        "import seaborn as sns"
      ],
      "metadata": {
        "id": "_IGNpsNSxaQc"
      },
      "execution_count": 4,
      "outputs": []
    }
  ]
}