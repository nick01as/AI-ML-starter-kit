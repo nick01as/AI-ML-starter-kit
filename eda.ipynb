{
 "cells": [
  {
   "cell_type": "markdown",
   "id": "4f415bd2",
   "metadata": {},
   "source": [
    "# TritonHacks 2025 - AI/ML Starter Kit Part 1: Exploratory Data Analysis (EDA)\n",
    "\n",
    "Welcome to the TritonHacks 2025 AI/ML Starter Kit!"
   ]
  },
  {
   "cell_type": "code",
   "execution_count": null,
   "id": "61d68012",
   "metadata": {
    "vscode": {
     "languageId": "plaintext"
    }
   },
   "outputs": [],
   "source": []
  }
 ],
 "metadata": {
  "language_info": {
   "name": "python"
  }
 },
 "nbformat": 4,
 "nbformat_minor": 5
}
