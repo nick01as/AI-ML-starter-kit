{
  "cells": [
    {
      "cell_type": "markdown",
      "metadata": {
        "id": "view-in-github",
        "colab_type": "text"
      },
      "source": [
        "<a href=\"https://colab.research.google.com/github/nick01as/AI-ML-starter-kit/blob/nick01as-patch-1/ml.ipynb\" target=\"_parent\"><img src=\"https://colab.research.google.com/assets/colab-badge.svg\" alt=\"Open In Colab\"/></a>"
      ]
    },
    {
      "cell_type": "markdown",
      "id": "66fa7dd3",
      "metadata": {
        "id": "66fa7dd3"
      },
      "source": [
        "# TritonHacks 2025: Introduction to AI/ML Starter Kit Part II: Machine Learning (ML)\n",
        "\n",
        "Welcome to the Intro to AI/ML Starter Kit for TritonHacks 2025! This is the second of two notebooks in this repo, and it focuses on creating ML models."
      ]
    },
    {
      "cell_type": "markdown",
      "id": "5336a773",
      "metadata": {
        "id": "5336a773"
      },
      "source": []
    },
    {
      "cell_type": "code",
      "execution_count": 1,
      "id": "P9jRkTXCCN-9",
      "metadata": {
        "id": "P9jRkTXCCN-9"
      },
      "outputs": [],
      "source": [
        "from sklearn.model_selection import train_test_split\n",
        "from sklearn.neighbors import KNeighborsClassifier\n",
        "from sklearn.neural_network import MLPClassifier\n",
        "from sklearn.preprocessing import StandardScaler\n",
        "from sklearn.metrics import accuracy_score\n",
        "import pandas as pd"
      ]
    },
    {
      "cell_type": "code",
      "execution_count": 2,
      "id": "3m13v5o-COlD",
      "metadata": {
        "colab": {
          "base_uri": "https://localhost:8080/",
          "height": 224
        },
        "id": "3m13v5o-COlD",
        "outputId": "9af25747-fe0a-4f45-ec14-d46f7f0abfcb"
      },
      "outputs": [
        {
          "output_type": "stream",
          "name": "stdout",
          "text": [
            "Mounted at /content/drive\n"
          ]
        },
        {
          "output_type": "execute_result",
          "data": {
            "text/plain": [
              "      id  gender   age  hypertension  heart_disease ever_married  \\\n",
              "0   9046    Male  67.0             0              1          Yes   \n",
              "1  51676  Female  61.0             0              0          Yes   \n",
              "2  31112    Male  80.0             0              1          Yes   \n",
              "3  60182  Female  49.0             0              0          Yes   \n",
              "4   1665  Female  79.0             1              0          Yes   \n",
              "\n",
              "       work_type Residence_type  avg_glucose_level   bmi   smoking_status  \\\n",
              "0        Private          Urban             228.69  36.6  formerly smoked   \n",
              "1  Self-employed          Rural             202.21   NaN     never smoked   \n",
              "2        Private          Rural             105.92  32.5     never smoked   \n",
              "3        Private          Urban             171.23  34.4           smokes   \n",
              "4  Self-employed          Rural             174.12  24.0     never smoked   \n",
              "\n",
              "   stroke  \n",
              "0       1  \n",
              "1       1  \n",
              "2       1  \n",
              "3       1  \n",
              "4       1  "
            ],
            "text/html": [
              "\n",
              "  <div id=\"df-5f996bdf-c087-46b6-ab0f-821dbaadf69c\" class=\"colab-df-container\">\n",
              "    <div>\n",
              "<style scoped>\n",
              "    .dataframe tbody tr th:only-of-type {\n",
              "        vertical-align: middle;\n",
              "    }\n",
              "\n",
              "    .dataframe tbody tr th {\n",
              "        vertical-align: top;\n",
              "    }\n",
              "\n",
              "    .dataframe thead th {\n",
              "        text-align: right;\n",
              "    }\n",
              "</style>\n",
              "<table border=\"1\" class=\"dataframe\">\n",
              "  <thead>\n",
              "    <tr style=\"text-align: right;\">\n",
              "      <th></th>\n",
              "      <th>id</th>\n",
              "      <th>gender</th>\n",
              "      <th>age</th>\n",
              "      <th>hypertension</th>\n",
              "      <th>heart_disease</th>\n",
              "      <th>ever_married</th>\n",
              "      <th>work_type</th>\n",
              "      <th>Residence_type</th>\n",
              "      <th>avg_glucose_level</th>\n",
              "      <th>bmi</th>\n",
              "      <th>smoking_status</th>\n",
              "      <th>stroke</th>\n",
              "    </tr>\n",
              "  </thead>\n",
              "  <tbody>\n",
              "    <tr>\n",
              "      <th>0</th>\n",
              "      <td>9046</td>\n",
              "      <td>Male</td>\n",
              "      <td>67.0</td>\n",
              "      <td>0</td>\n",
              "      <td>1</td>\n",
              "      <td>Yes</td>\n",
              "      <td>Private</td>\n",
              "      <td>Urban</td>\n",
              "      <td>228.69</td>\n",
              "      <td>36.6</td>\n",
              "      <td>formerly smoked</td>\n",
              "      <td>1</td>\n",
              "    </tr>\n",
              "    <tr>\n",
              "      <th>1</th>\n",
              "      <td>51676</td>\n",
              "      <td>Female</td>\n",
              "      <td>61.0</td>\n",
              "      <td>0</td>\n",
              "      <td>0</td>\n",
              "      <td>Yes</td>\n",
              "      <td>Self-employed</td>\n",
              "      <td>Rural</td>\n",
              "      <td>202.21</td>\n",
              "      <td>NaN</td>\n",
              "      <td>never smoked</td>\n",
              "      <td>1</td>\n",
              "    </tr>\n",
              "    <tr>\n",
              "      <th>2</th>\n",
              "      <td>31112</td>\n",
              "      <td>Male</td>\n",
              "      <td>80.0</td>\n",
              "      <td>0</td>\n",
              "      <td>1</td>\n",
              "      <td>Yes</td>\n",
              "      <td>Private</td>\n",
              "      <td>Rural</td>\n",
              "      <td>105.92</td>\n",
              "      <td>32.5</td>\n",
              "      <td>never smoked</td>\n",
              "      <td>1</td>\n",
              "    </tr>\n",
              "    <tr>\n",
              "      <th>3</th>\n",
              "      <td>60182</td>\n",
              "      <td>Female</td>\n",
              "      <td>49.0</td>\n",
              "      <td>0</td>\n",
              "      <td>0</td>\n",
              "      <td>Yes</td>\n",
              "      <td>Private</td>\n",
              "      <td>Urban</td>\n",
              "      <td>171.23</td>\n",
              "      <td>34.4</td>\n",
              "      <td>smokes</td>\n",
              "      <td>1</td>\n",
              "    </tr>\n",
              "    <tr>\n",
              "      <th>4</th>\n",
              "      <td>1665</td>\n",
              "      <td>Female</td>\n",
              "      <td>79.0</td>\n",
              "      <td>1</td>\n",
              "      <td>0</td>\n",
              "      <td>Yes</td>\n",
              "      <td>Self-employed</td>\n",
              "      <td>Rural</td>\n",
              "      <td>174.12</td>\n",
              "      <td>24.0</td>\n",
              "      <td>never smoked</td>\n",
              "      <td>1</td>\n",
              "    </tr>\n",
              "  </tbody>\n",
              "</table>\n",
              "</div>\n",
              "    <div class=\"colab-df-buttons\">\n",
              "\n",
              "  <div class=\"colab-df-container\">\n",
              "    <button class=\"colab-df-convert\" onclick=\"convertToInteractive('df-5f996bdf-c087-46b6-ab0f-821dbaadf69c')\"\n",
              "            title=\"Convert this dataframe to an interactive table.\"\n",
              "            style=\"display:none;\">\n",
              "\n",
              "  <svg xmlns=\"http://www.w3.org/2000/svg\" height=\"24px\" viewBox=\"0 -960 960 960\">\n",
              "    <path d=\"M120-120v-720h720v720H120Zm60-500h600v-160H180v160Zm220 220h160v-160H400v160Zm0 220h160v-160H400v160ZM180-400h160v-160H180v160Zm440 0h160v-160H620v160ZM180-180h160v-160H180v160Zm440 0h160v-160H620v160Z\"/>\n",
              "  </svg>\n",
              "    </button>\n",
              "\n",
              "  <style>\n",
              "    .colab-df-container {\n",
              "      display:flex;\n",
              "      gap: 12px;\n",
              "    }\n",
              "\n",
              "    .colab-df-convert {\n",
              "      background-color: #E8F0FE;\n",
              "      border: none;\n",
              "      border-radius: 50%;\n",
              "      cursor: pointer;\n",
              "      display: none;\n",
              "      fill: #1967D2;\n",
              "      height: 32px;\n",
              "      padding: 0 0 0 0;\n",
              "      width: 32px;\n",
              "    }\n",
              "\n",
              "    .colab-df-convert:hover {\n",
              "      background-color: #E2EBFA;\n",
              "      box-shadow: 0px 1px 2px rgba(60, 64, 67, 0.3), 0px 1px 3px 1px rgba(60, 64, 67, 0.15);\n",
              "      fill: #174EA6;\n",
              "    }\n",
              "\n",
              "    .colab-df-buttons div {\n",
              "      margin-bottom: 4px;\n",
              "    }\n",
              "\n",
              "    [theme=dark] .colab-df-convert {\n",
              "      background-color: #3B4455;\n",
              "      fill: #D2E3FC;\n",
              "    }\n",
              "\n",
              "    [theme=dark] .colab-df-convert:hover {\n",
              "      background-color: #434B5C;\n",
              "      box-shadow: 0px 1px 3px 1px rgba(0, 0, 0, 0.15);\n",
              "      filter: drop-shadow(0px 1px 2px rgba(0, 0, 0, 0.3));\n",
              "      fill: #FFFFFF;\n",
              "    }\n",
              "  </style>\n",
              "\n",
              "    <script>\n",
              "      const buttonEl =\n",
              "        document.querySelector('#df-5f996bdf-c087-46b6-ab0f-821dbaadf69c button.colab-df-convert');\n",
              "      buttonEl.style.display =\n",
              "        google.colab.kernel.accessAllowed ? 'block' : 'none';\n",
              "\n",
              "      async function convertToInteractive(key) {\n",
              "        const element = document.querySelector('#df-5f996bdf-c087-46b6-ab0f-821dbaadf69c');\n",
              "        const dataTable =\n",
              "          await google.colab.kernel.invokeFunction('convertToInteractive',\n",
              "                                                    [key], {});\n",
              "        if (!dataTable) return;\n",
              "\n",
              "        const docLinkHtml = 'Like what you see? Visit the ' +\n",
              "          '<a target=\"_blank\" href=https://colab.research.google.com/notebooks/data_table.ipynb>data table notebook</a>'\n",
              "          + ' to learn more about interactive tables.';\n",
              "        element.innerHTML = '';\n",
              "        dataTable['output_type'] = 'display_data';\n",
              "        await google.colab.output.renderOutput(dataTable, element);\n",
              "        const docLink = document.createElement('div');\n",
              "        docLink.innerHTML = docLinkHtml;\n",
              "        element.appendChild(docLink);\n",
              "      }\n",
              "    </script>\n",
              "  </div>\n",
              "\n",
              "\n",
              "    <div id=\"df-badc5639-38e9-44a4-a08e-6db2cf20de82\">\n",
              "      <button class=\"colab-df-quickchart\" onclick=\"quickchart('df-badc5639-38e9-44a4-a08e-6db2cf20de82')\"\n",
              "                title=\"Suggest charts\"\n",
              "                style=\"display:none;\">\n",
              "\n",
              "<svg xmlns=\"http://www.w3.org/2000/svg\" height=\"24px\"viewBox=\"0 0 24 24\"\n",
              "     width=\"24px\">\n",
              "    <g>\n",
              "        <path d=\"M19 3H5c-1.1 0-2 .9-2 2v14c0 1.1.9 2 2 2h14c1.1 0 2-.9 2-2V5c0-1.1-.9-2-2-2zM9 17H7v-7h2v7zm4 0h-2V7h2v10zm4 0h-2v-4h2v4z\"/>\n",
              "    </g>\n",
              "</svg>\n",
              "      </button>\n",
              "\n",
              "<style>\n",
              "  .colab-df-quickchart {\n",
              "      --bg-color: #E8F0FE;\n",
              "      --fill-color: #1967D2;\n",
              "      --hover-bg-color: #E2EBFA;\n",
              "      --hover-fill-color: #174EA6;\n",
              "      --disabled-fill-color: #AAA;\n",
              "      --disabled-bg-color: #DDD;\n",
              "  }\n",
              "\n",
              "  [theme=dark] .colab-df-quickchart {\n",
              "      --bg-color: #3B4455;\n",
              "      --fill-color: #D2E3FC;\n",
              "      --hover-bg-color: #434B5C;\n",
              "      --hover-fill-color: #FFFFFF;\n",
              "      --disabled-bg-color: #3B4455;\n",
              "      --disabled-fill-color: #666;\n",
              "  }\n",
              "\n",
              "  .colab-df-quickchart {\n",
              "    background-color: var(--bg-color);\n",
              "    border: none;\n",
              "    border-radius: 50%;\n",
              "    cursor: pointer;\n",
              "    display: none;\n",
              "    fill: var(--fill-color);\n",
              "    height: 32px;\n",
              "    padding: 0;\n",
              "    width: 32px;\n",
              "  }\n",
              "\n",
              "  .colab-df-quickchart:hover {\n",
              "    background-color: var(--hover-bg-color);\n",
              "    box-shadow: 0 1px 2px rgba(60, 64, 67, 0.3), 0 1px 3px 1px rgba(60, 64, 67, 0.15);\n",
              "    fill: var(--button-hover-fill-color);\n",
              "  }\n",
              "\n",
              "  .colab-df-quickchart-complete:disabled,\n",
              "  .colab-df-quickchart-complete:disabled:hover {\n",
              "    background-color: var(--disabled-bg-color);\n",
              "    fill: var(--disabled-fill-color);\n",
              "    box-shadow: none;\n",
              "  }\n",
              "\n",
              "  .colab-df-spinner {\n",
              "    border: 2px solid var(--fill-color);\n",
              "    border-color: transparent;\n",
              "    border-bottom-color: var(--fill-color);\n",
              "    animation:\n",
              "      spin 1s steps(1) infinite;\n",
              "  }\n",
              "\n",
              "  @keyframes spin {\n",
              "    0% {\n",
              "      border-color: transparent;\n",
              "      border-bottom-color: var(--fill-color);\n",
              "      border-left-color: var(--fill-color);\n",
              "    }\n",
              "    20% {\n",
              "      border-color: transparent;\n",
              "      border-left-color: var(--fill-color);\n",
              "      border-top-color: var(--fill-color);\n",
              "    }\n",
              "    30% {\n",
              "      border-color: transparent;\n",
              "      border-left-color: var(--fill-color);\n",
              "      border-top-color: var(--fill-color);\n",
              "      border-right-color: var(--fill-color);\n",
              "    }\n",
              "    40% {\n",
              "      border-color: transparent;\n",
              "      border-right-color: var(--fill-color);\n",
              "      border-top-color: var(--fill-color);\n",
              "    }\n",
              "    60% {\n",
              "      border-color: transparent;\n",
              "      border-right-color: var(--fill-color);\n",
              "    }\n",
              "    80% {\n",
              "      border-color: transparent;\n",
              "      border-right-color: var(--fill-color);\n",
              "      border-bottom-color: var(--fill-color);\n",
              "    }\n",
              "    90% {\n",
              "      border-color: transparent;\n",
              "      border-bottom-color: var(--fill-color);\n",
              "    }\n",
              "  }\n",
              "</style>\n",
              "\n",
              "      <script>\n",
              "        async function quickchart(key) {\n",
              "          const quickchartButtonEl =\n",
              "            document.querySelector('#' + key + ' button');\n",
              "          quickchartButtonEl.disabled = true;  // To prevent multiple clicks.\n",
              "          quickchartButtonEl.classList.add('colab-df-spinner');\n",
              "          try {\n",
              "            const charts = await google.colab.kernel.invokeFunction(\n",
              "                'suggestCharts', [key], {});\n",
              "          } catch (error) {\n",
              "            console.error('Error during call to suggestCharts:', error);\n",
              "          }\n",
              "          quickchartButtonEl.classList.remove('colab-df-spinner');\n",
              "          quickchartButtonEl.classList.add('colab-df-quickchart-complete');\n",
              "        }\n",
              "        (() => {\n",
              "          let quickchartButtonEl =\n",
              "            document.querySelector('#df-badc5639-38e9-44a4-a08e-6db2cf20de82 button');\n",
              "          quickchartButtonEl.style.display =\n",
              "            google.colab.kernel.accessAllowed ? 'block' : 'none';\n",
              "        })();\n",
              "      </script>\n",
              "    </div>\n",
              "\n",
              "    </div>\n",
              "  </div>\n"
            ],
            "application/vnd.google.colaboratory.intrinsic+json": {
              "type": "dataframe",
              "variable_name": "df",
              "summary": "{\n  \"name\": \"df\",\n  \"rows\": 5110,\n  \"fields\": [\n    {\n      \"column\": \"id\",\n      \"properties\": {\n        \"dtype\": \"number\",\n        \"std\": 21161,\n        \"min\": 67,\n        \"max\": 72940,\n        \"num_unique_values\": 5110,\n        \"samples\": [\n          40041,\n          55244,\n          70992\n        ],\n        \"semantic_type\": \"\",\n        \"description\": \"\"\n      }\n    },\n    {\n      \"column\": \"gender\",\n      \"properties\": {\n        \"dtype\": \"category\",\n        \"num_unique_values\": 3,\n        \"samples\": [\n          \"Male\",\n          \"Female\",\n          \"Other\"\n        ],\n        \"semantic_type\": \"\",\n        \"description\": \"\"\n      }\n    },\n    {\n      \"column\": \"age\",\n      \"properties\": {\n        \"dtype\": \"number\",\n        \"std\": 22.61264672311352,\n        \"min\": 0.08,\n        \"max\": 82.0,\n        \"num_unique_values\": 104,\n        \"samples\": [\n          45.0,\n          24.0,\n          33.0\n        ],\n        \"semantic_type\": \"\",\n        \"description\": \"\"\n      }\n    },\n    {\n      \"column\": \"hypertension\",\n      \"properties\": {\n        \"dtype\": \"number\",\n        \"std\": 0,\n        \"min\": 0,\n        \"max\": 1,\n        \"num_unique_values\": 2,\n        \"samples\": [\n          1,\n          0\n        ],\n        \"semantic_type\": \"\",\n        \"description\": \"\"\n      }\n    },\n    {\n      \"column\": \"heart_disease\",\n      \"properties\": {\n        \"dtype\": \"number\",\n        \"std\": 0,\n        \"min\": 0,\n        \"max\": 1,\n        \"num_unique_values\": 2,\n        \"samples\": [\n          0,\n          1\n        ],\n        \"semantic_type\": \"\",\n        \"description\": \"\"\n      }\n    },\n    {\n      \"column\": \"ever_married\",\n      \"properties\": {\n        \"dtype\": \"category\",\n        \"num_unique_values\": 2,\n        \"samples\": [\n          \"No\",\n          \"Yes\"\n        ],\n        \"semantic_type\": \"\",\n        \"description\": \"\"\n      }\n    },\n    {\n      \"column\": \"work_type\",\n      \"properties\": {\n        \"dtype\": \"category\",\n        \"num_unique_values\": 5,\n        \"samples\": [\n          \"Self-employed\",\n          \"Never_worked\"\n        ],\n        \"semantic_type\": \"\",\n        \"description\": \"\"\n      }\n    },\n    {\n      \"column\": \"Residence_type\",\n      \"properties\": {\n        \"dtype\": \"category\",\n        \"num_unique_values\": 2,\n        \"samples\": [\n          \"Rural\",\n          \"Urban\"\n        ],\n        \"semantic_type\": \"\",\n        \"description\": \"\"\n      }\n    },\n    {\n      \"column\": \"avg_glucose_level\",\n      \"properties\": {\n        \"dtype\": \"number\",\n        \"std\": 45.28356015058203,\n        \"min\": 55.12,\n        \"max\": 271.74,\n        \"num_unique_values\": 3979,\n        \"samples\": [\n          178.29,\n          156.69\n        ],\n        \"semantic_type\": \"\",\n        \"description\": \"\"\n      }\n    },\n    {\n      \"column\": \"bmi\",\n      \"properties\": {\n        \"dtype\": \"number\",\n        \"std\": 7.854066729680158,\n        \"min\": 10.3,\n        \"max\": 97.6,\n        \"num_unique_values\": 418,\n        \"samples\": [\n          49.5,\n          18.5\n        ],\n        \"semantic_type\": \"\",\n        \"description\": \"\"\n      }\n    },\n    {\n      \"column\": \"smoking_status\",\n      \"properties\": {\n        \"dtype\": \"category\",\n        \"num_unique_values\": 4,\n        \"samples\": [\n          \"never smoked\",\n          \"Unknown\"\n        ],\n        \"semantic_type\": \"\",\n        \"description\": \"\"\n      }\n    },\n    {\n      \"column\": \"stroke\",\n      \"properties\": {\n        \"dtype\": \"number\",\n        \"std\": 0,\n        \"min\": 0,\n        \"max\": 1,\n        \"num_unique_values\": 2,\n        \"samples\": [\n          0,\n          1\n        ],\n        \"semantic_type\": \"\",\n        \"description\": \"\"\n      }\n    }\n  ]\n}"
            }
          },
          "metadata": {},
          "execution_count": 2
        }
      ],
      "source": [
        "# Mount Google drive\n",
        "from google.colab import drive\n",
        "drive.mount('/content/drive')\n",
        "\n",
        "df = pd.read_csv('/content/drive/MyDrive/AI-ML-StarterKit/healthcare-dataset-stroke-data.csv')\n",
        "df.head()"
      ]
    },
    {
      "cell_type": "code",
      "execution_count": 3,
      "id": "_r1vzi_YMFBf",
      "metadata": {
        "id": "_r1vzi_YMFBf"
      },
      "outputs": [],
      "source": [
        "# One-hot encoding of Work\n",
        "\n",
        "one_hot = pd.get_dummies(\n",
        "    df,\n",
        "    columns=['work_type', 'gender', 'smoking_status', 'Residence_type', 'ever_married'],\n",
        "    prefix=['work', 'gender', 'smoking', 'Residence', 'marriage']\n",
        ")\n",
        "df = one_hot\n",
        "df = df.fillna(df.median(numeric_only=True))"
      ]
    },
    {
      "cell_type": "code",
      "execution_count": 4,
      "id": "PKAtGlehFP1a",
      "metadata": {
        "id": "PKAtGlehFP1a"
      },
      "outputs": [],
      "source": [
        "# Define X and y\n",
        "\n",
        "X = df.drop([\"stroke\", \"id\"], axis = 1)\n",
        "y = df[\"stroke\"]"
      ]
    },
    {
      "cell_type": "code",
      "execution_count": 5,
      "id": "dBKZwJ84CO_3",
      "metadata": {
        "id": "dBKZwJ84CO_3"
      },
      "outputs": [],
      "source": [
        "# Train-Test Spliting\n",
        "\n",
        "X_train, X_test, y_train, y_test = train_test_split(X, y, test_size = 0.2, random_state = 0)"
      ]
    },
    {
      "cell_type": "code",
      "execution_count": 6,
      "id": "mNVwrWtnSFVT",
      "metadata": {
        "id": "mNVwrWtnSFVT"
      },
      "outputs": [],
      "source": [
        "# Scaling dominant numeric features\n",
        "\n",
        "to_scale = ['age', 'avg_glucose_level', 'bmi']\n",
        "not_scaled = [col for col in X.columns if col not in to_scale]\n",
        "\n",
        "scaler = StandardScaler()\n",
        "scaled_part = scaler.fit_transform(X[to_scale])\n",
        "scaled_df = pd.DataFrame(scaled_part, columns=to_scale)\n",
        "\n",
        "X_final = pd.concat([scaled_df, X[not_scaled].reset_index(drop=True)], axis=1)"
      ]
    },
    {
      "cell_type": "code",
      "execution_count": 7,
      "id": "oS-ZuKebGT-d",
      "metadata": {
        "id": "oS-ZuKebGT-d",
        "colab": {
          "base_uri": "https://localhost:8080/"
        },
        "outputId": "3a17dcff-c024-4f58-f84e-57723114644c"
      },
      "outputs": [
        {
          "output_type": "stream",
          "name": "stdout",
          "text": [
            "0.9383561643835616\n"
          ]
        }
      ],
      "source": [
        "# KNN Classification\n",
        "\n",
        "KNN = KNeighborsClassifier(n_neighbors = 9)\n",
        "KNN.fit(X_train, y_train)\n",
        "y_predicted = KNN.predict(X_test)\n",
        "acc = accuracy_score(y_predicted, y_test)\n",
        "print(acc)"
      ]
    },
    {
      "cell_type": "code",
      "source": [
        "from sklearn.tree import DecisionTreeClassifier as DT\n",
        "\n",
        "dt = DT(max_depth = 5, random_state = 0)\n",
        "dt.fit(X_train, y_train)\n",
        "accuracy = dt.score(X_test, y_test)\n",
        "print(f\"Accuracy: {accuracy}\")"
      ],
      "metadata": {
        "id": "pHcPMhAsjFee",
        "outputId": "aa8b490e-9f6e-4f98-b13a-f4fe05af0831",
        "colab": {
          "base_uri": "https://localhost:8080/"
        }
      },
      "id": "pHcPMhAsjFee",
      "execution_count": 55,
      "outputs": [
        {
          "output_type": "stream",
          "name": "stdout",
          "text": [
            "Accuracy: 0.9373776908023483\n"
          ]
        }
      ]
    },
    {
      "cell_type": "code",
      "source": [
        "from sklearn.tree import export_graphviz\n",
        "import graphviz\n",
        "\n",
        "dot_data = export_graphviz(dt, out_file=None, feature_names=X.columns, class_names=['Non-stroke', 'Stroke'], filled=True, rounded=True, special_characters=True)\n",
        "graph = graphviz.Source(dot_data)\n",
        "graph"
      ],
      "metadata": {
        "id": "oF58TGVhjyt0",
        "outputId": "26085bc9-b85e-4928-dc56-46ceb4736278",
        "colab": {
          "base_uri": "https://localhost:8080/",
          "height": 936
        }
      },
      "id": "oF58TGVhjyt0",
      "execution_count": 56,
      "outputs": [
        {
          "output_type": "execute_result",
          "data": {
            "image/svg+xml": "<?xml version=\"1.0\" encoding=\"UTF-8\" standalone=\"no\"?>\n<!DOCTYPE svg PUBLIC \"-//W3C//DTD SVG 1.1//EN\"\n \"http://www.w3.org/Graphics/SVG/1.1/DTD/svg11.dtd\">\n<!-- Generated by graphviz version 2.43.0 (0)\n -->\n<!-- Title: Tree Pages: 1 -->\n<svg width=\"3224pt\" height=\"671pt\"\n viewBox=\"0.00 0.00 3224.00 671.00\" xmlns=\"http://www.w3.org/2000/svg\" xmlns:xlink=\"http://www.w3.org/1999/xlink\">\n<g id=\"graph0\" class=\"graph\" transform=\"scale(1 1) rotate(0) translate(4 667)\">\n<title>Tree</title>\n<polygon fill=\"white\" stroke=\"transparent\" points=\"-4,4 -4,-667 3220,-667 3220,4 -4,4\"/>\n<!-- 0 -->\n<g id=\"node1\" class=\"node\">\n<title>0</title>\n<path fill=\"#e68742\" stroke=\"black\" d=\"M1559.5,-663C1559.5,-663 1451.5,-663 1451.5,-663 1445.5,-663 1439.5,-657 1439.5,-651 1439.5,-651 1439.5,-592 1439.5,-592 1439.5,-586 1445.5,-580 1451.5,-580 1451.5,-580 1559.5,-580 1559.5,-580 1565.5,-580 1571.5,-586 1571.5,-592 1571.5,-592 1571.5,-651 1571.5,-651 1571.5,-657 1565.5,-663 1559.5,-663\"/>\n<text text-anchor=\"start\" x=\"1473.5\" y=\"-647.8\" font-family=\"Helvetica,sans-Serif\" font-size=\"14.00\">age ≤ 67.5</text>\n<text text-anchor=\"start\" x=\"1470\" y=\"-632.8\" font-family=\"Helvetica,sans-Serif\" font-size=\"14.00\">gini = 0.087</text>\n<text text-anchor=\"start\" x=\"1457\" y=\"-617.8\" font-family=\"Helvetica,sans-Serif\" font-size=\"14.00\">samples = 4088</text>\n<text text-anchor=\"start\" x=\"1447.5\" y=\"-602.8\" font-family=\"Helvetica,sans-Serif\" font-size=\"14.00\">value = [3901, 187]</text>\n<text text-anchor=\"start\" x=\"1449\" y=\"-587.8\" font-family=\"Helvetica,sans-Serif\" font-size=\"14.00\">class = Non&#45;stroke</text>\n</g>\n<!-- 1 -->\n<g id=\"node2\" class=\"node\">\n<title>1</title>\n<path fill=\"#e6843d\" stroke=\"black\" d=\"M1174,-544C1174,-544 1069,-544 1069,-544 1063,-544 1057,-538 1057,-532 1057,-532 1057,-473 1057,-473 1057,-467 1063,-461 1069,-461 1069,-461 1174,-461 1174,-461 1180,-461 1186,-467 1186,-473 1186,-473 1186,-532 1186,-532 1186,-538 1180,-544 1174,-544\"/>\n<text text-anchor=\"start\" x=\"1089.5\" y=\"-528.8\" font-family=\"Helvetica,sans-Serif\" font-size=\"14.00\">age ≤ 47.5</text>\n<text text-anchor=\"start\" x=\"1086\" y=\"-513.8\" font-family=\"Helvetica,sans-Serif\" font-size=\"14.00\">gini = 0.043</text>\n<text text-anchor=\"start\" x=\"1073\" y=\"-498.8\" font-family=\"Helvetica,sans-Serif\" font-size=\"14.00\">samples = 3396</text>\n<text text-anchor=\"start\" x=\"1067\" y=\"-483.8\" font-family=\"Helvetica,sans-Serif\" font-size=\"14.00\">value = [3322, 74]</text>\n<text text-anchor=\"start\" x=\"1065\" y=\"-468.8\" font-family=\"Helvetica,sans-Serif\" font-size=\"14.00\">class = Non&#45;stroke</text>\n</g>\n<!-- 0&#45;&gt;1 -->\n<g id=\"edge1\" class=\"edge\">\n<title>0&#45;&gt;1</title>\n<path fill=\"none\" stroke=\"black\" d=\"M1439.49,-600.39C1371.7,-579.73 1266.39,-547.65 1195.74,-526.12\"/>\n<polygon fill=\"black\" stroke=\"black\" points=\"1196.6,-522.72 1186.01,-523.16 1194.56,-529.42 1196.6,-522.72\"/>\n<text text-anchor=\"middle\" x=\"1197.77\" y=\"-541.52\" font-family=\"Helvetica,sans-Serif\" font-size=\"14.00\">True</text>\n</g>\n<!-- 28 -->\n<g id=\"node29\" class=\"node\">\n<title>28</title>\n<path fill=\"#ea9a60\" stroke=\"black\" d=\"M2195,-544C2195,-544 2072,-544 2072,-544 2066,-544 2060,-538 2060,-532 2060,-532 2060,-473 2060,-473 2060,-467 2066,-461 2072,-461 2072,-461 2195,-461 2195,-461 2201,-461 2207,-467 2207,-473 2207,-473 2207,-532 2207,-532 2207,-538 2201,-544 2195,-544\"/>\n<text text-anchor=\"start\" x=\"2077.5\" y=\"-528.8\" font-family=\"Helvetica,sans-Serif\" font-size=\"14.00\">work_Private ≤ 0.5</text>\n<text text-anchor=\"start\" x=\"2098\" y=\"-513.8\" font-family=\"Helvetica,sans-Serif\" font-size=\"14.00\">gini = 0.273</text>\n<text text-anchor=\"start\" x=\"2088.5\" y=\"-498.8\" font-family=\"Helvetica,sans-Serif\" font-size=\"14.00\">samples = 692</text>\n<text text-anchor=\"start\" x=\"2068\" y=\"-483.8\" font-family=\"Helvetica,sans-Serif\" font-size=\"14.00\">value = [579.0, 113.0]</text>\n<text text-anchor=\"start\" x=\"2077\" y=\"-468.8\" font-family=\"Helvetica,sans-Serif\" font-size=\"14.00\">class = Non&#45;stroke</text>\n</g>\n<!-- 0&#45;&gt;28 -->\n<g id=\"edge28\" class=\"edge\">\n<title>0&#45;&gt;28</title>\n<path fill=\"none\" stroke=\"black\" d=\"M1571.52,-608.2C1686.5,-586.78 1923.27,-542.67 2049.67,-519.12\"/>\n<polygon fill=\"black\" stroke=\"black\" points=\"2050.5,-522.52 2059.69,-517.25 2049.22,-515.64 2050.5,-522.52\"/>\n<text text-anchor=\"middle\" x=\"2045.55\" y=\"-534.17\" font-family=\"Helvetica,sans-Serif\" font-size=\"14.00\">False</text>\n</g>\n<!-- 2 -->\n<g id=\"node3\" class=\"node\">\n<title>2</title>\n<path fill=\"#e5823a\" stroke=\"black\" d=\"M642,-425C642,-425 537,-425 537,-425 531,-425 525,-419 525,-413 525,-413 525,-354 525,-354 525,-348 531,-342 537,-342 537,-342 642,-342 642,-342 648,-342 654,-348 654,-354 654,-354 654,-413 654,-413 654,-419 648,-425 642,-425\"/>\n<text text-anchor=\"start\" x=\"557.5\" y=\"-409.8\" font-family=\"Helvetica,sans-Serif\" font-size=\"14.00\">bmi ≤ 56.3</text>\n<text text-anchor=\"start\" x=\"557.5\" y=\"-394.8\" font-family=\"Helvetica,sans-Serif\" font-size=\"14.00\">gini = 0.01</text>\n<text text-anchor=\"start\" x=\"541\" y=\"-379.8\" font-family=\"Helvetica,sans-Serif\" font-size=\"14.00\">samples = 2211</text>\n<text text-anchor=\"start\" x=\"535\" y=\"-364.8\" font-family=\"Helvetica,sans-Serif\" font-size=\"14.00\">value = [2200, 11]</text>\n<text text-anchor=\"start\" x=\"533\" y=\"-349.8\" font-family=\"Helvetica,sans-Serif\" font-size=\"14.00\">class = Non&#45;stroke</text>\n</g>\n<!-- 1&#45;&gt;2 -->\n<g id=\"edge2\" class=\"edge\">\n<title>1&#45;&gt;2</title>\n<path fill=\"none\" stroke=\"black\" d=\"M1056.8,-487.27C957.68,-465.47 768.75,-423.92 664.03,-400.89\"/>\n<polygon fill=\"black\" stroke=\"black\" points=\"664.69,-397.45 654.17,-398.72 663.18,-404.29 664.69,-397.45\"/>\n</g>\n<!-- 13 -->\n<g id=\"node14\" class=\"node\">\n<title>13</title>\n<path fill=\"#e68844\" stroke=\"black\" d=\"M1201.5,-425C1201.5,-425 1041.5,-425 1041.5,-425 1035.5,-425 1029.5,-419 1029.5,-413 1029.5,-413 1029.5,-354 1029.5,-354 1029.5,-348 1035.5,-342 1041.5,-342 1041.5,-342 1201.5,-342 1201.5,-342 1207.5,-342 1213.5,-348 1213.5,-354 1213.5,-354 1213.5,-413 1213.5,-413 1213.5,-419 1207.5,-425 1201.5,-425\"/>\n<text text-anchor=\"start\" x=\"1037.5\" y=\"-409.8\" font-family=\"Helvetica,sans-Serif\" font-size=\"14.00\">avg_glucose_level ≤ 110.47</text>\n<text text-anchor=\"start\" x=\"1086\" y=\"-394.8\" font-family=\"Helvetica,sans-Serif\" font-size=\"14.00\">gini = 0.101</text>\n<text text-anchor=\"start\" x=\"1073\" y=\"-379.8\" font-family=\"Helvetica,sans-Serif\" font-size=\"14.00\">samples = 1185</text>\n<text text-anchor=\"start\" x=\"1067\" y=\"-364.8\" font-family=\"Helvetica,sans-Serif\" font-size=\"14.00\">value = [1122, 63]</text>\n<text text-anchor=\"start\" x=\"1065\" y=\"-349.8\" font-family=\"Helvetica,sans-Serif\" font-size=\"14.00\">class = Non&#45;stroke</text>\n</g>\n<!-- 1&#45;&gt;13 -->\n<g id=\"edge13\" class=\"edge\">\n<title>1&#45;&gt;13</title>\n<path fill=\"none\" stroke=\"black\" d=\"M1121.5,-460.91C1121.5,-452.65 1121.5,-443.86 1121.5,-435.3\"/>\n<polygon fill=\"black\" stroke=\"black\" points=\"1125,-435.02 1121.5,-425.02 1118,-435.02 1125,-435.02\"/>\n</g>\n<!-- 3 -->\n<g id=\"node4\" class=\"node\">\n<title>3</title>\n<path fill=\"#e5823a\" stroke=\"black\" d=\"M448.5,-306C448.5,-306 288.5,-306 288.5,-306 282.5,-306 276.5,-300 276.5,-294 276.5,-294 276.5,-235 276.5,-235 276.5,-229 282.5,-223 288.5,-223 288.5,-223 448.5,-223 448.5,-223 454.5,-223 460.5,-229 460.5,-235 460.5,-235 460.5,-294 460.5,-294 460.5,-300 454.5,-306 448.5,-306\"/>\n<text text-anchor=\"start\" x=\"284.5\" y=\"-290.8\" font-family=\"Helvetica,sans-Serif\" font-size=\"14.00\">avg_glucose_level ≤ 58.115</text>\n<text text-anchor=\"start\" x=\"333\" y=\"-275.8\" font-family=\"Helvetica,sans-Serif\" font-size=\"14.00\">gini = 0.009</text>\n<text text-anchor=\"start\" x=\"320\" y=\"-260.8\" font-family=\"Helvetica,sans-Serif\" font-size=\"14.00\">samples = 2202</text>\n<text text-anchor=\"start\" x=\"314\" y=\"-245.8\" font-family=\"Helvetica,sans-Serif\" font-size=\"14.00\">value = [2192, 10]</text>\n<text text-anchor=\"start\" x=\"312\" y=\"-230.8\" font-family=\"Helvetica,sans-Serif\" font-size=\"14.00\">class = Non&#45;stroke</text>\n</g>\n<!-- 2&#45;&gt;3 -->\n<g id=\"edge3\" class=\"edge\">\n<title>2&#45;&gt;3</title>\n<path fill=\"none\" stroke=\"black\" d=\"M524.98,-348.34C502.84,-336.62 477.7,-323.31 454.15,-310.84\"/>\n<polygon fill=\"black\" stroke=\"black\" points=\"455.68,-307.7 445.21,-306.11 452.41,-313.88 455.68,-307.7\"/>\n</g>\n<!-- 10 -->\n<g id=\"node11\" class=\"node\">\n<title>10</title>\n<path fill=\"#e89152\" stroke=\"black\" d=\"M642,-306C642,-306 537,-306 537,-306 531,-306 525,-300 525,-294 525,-294 525,-235 525,-235 525,-229 531,-223 537,-223 537,-223 642,-223 642,-223 648,-223 654,-229 654,-235 654,-235 654,-294 654,-294 654,-300 648,-306 642,-306\"/>\n<text text-anchor=\"start\" x=\"553.5\" y=\"-290.8\" font-family=\"Helvetica,sans-Serif\" font-size=\"14.00\">bmi ≤ 57.05</text>\n<text text-anchor=\"start\" x=\"554\" y=\"-275.8\" font-family=\"Helvetica,sans-Serif\" font-size=\"14.00\">gini = 0.198</text>\n<text text-anchor=\"start\" x=\"552\" y=\"-260.8\" font-family=\"Helvetica,sans-Serif\" font-size=\"14.00\">samples = 9</text>\n<text text-anchor=\"start\" x=\"550\" y=\"-245.8\" font-family=\"Helvetica,sans-Serif\" font-size=\"14.00\">value = [8, 1]</text>\n<text text-anchor=\"start\" x=\"533\" y=\"-230.8\" font-family=\"Helvetica,sans-Serif\" font-size=\"14.00\">class = Non&#45;stroke</text>\n</g>\n<!-- 2&#45;&gt;10 -->\n<g id=\"edge10\" class=\"edge\">\n<title>2&#45;&gt;10</title>\n<path fill=\"none\" stroke=\"black\" d=\"M589.5,-341.91C589.5,-333.65 589.5,-324.86 589.5,-316.3\"/>\n<polygon fill=\"black\" stroke=\"black\" points=\"593,-316.02 589.5,-306.02 586,-316.02 593,-316.02\"/>\n</g>\n<!-- 4 -->\n<g id=\"node5\" class=\"node\">\n<title>4</title>\n<path fill=\"#e68540\" stroke=\"black\" d=\"M273.5,-187C273.5,-187 121.5,-187 121.5,-187 115.5,-187 109.5,-181 109.5,-175 109.5,-175 109.5,-116 109.5,-116 109.5,-110 115.5,-104 121.5,-104 121.5,-104 273.5,-104 273.5,-104 279.5,-104 285.5,-110 285.5,-116 285.5,-116 285.5,-175 285.5,-175 285.5,-181 279.5,-187 273.5,-187\"/>\n<text text-anchor=\"start\" x=\"117.5\" y=\"-171.8\" font-family=\"Helvetica,sans-Serif\" font-size=\"14.00\">avg_glucose_level ≤ 58.06</text>\n<text text-anchor=\"start\" x=\"162\" y=\"-156.8\" font-family=\"Helvetica,sans-Serif\" font-size=\"14.00\">gini = 0.063</text>\n<text text-anchor=\"start\" x=\"156.5\" y=\"-141.8\" font-family=\"Helvetica,sans-Serif\" font-size=\"14.00\">samples = 61</text>\n<text text-anchor=\"start\" x=\"154.5\" y=\"-126.8\" font-family=\"Helvetica,sans-Serif\" font-size=\"14.00\">value = [59, 2]</text>\n<text text-anchor=\"start\" x=\"141\" y=\"-111.8\" font-family=\"Helvetica,sans-Serif\" font-size=\"14.00\">class = Non&#45;stroke</text>\n</g>\n<!-- 3&#45;&gt;4 -->\n<g id=\"edge4\" class=\"edge\">\n<title>3&#45;&gt;4</title>\n<path fill=\"none\" stroke=\"black\" d=\"M309.17,-222.91C294.98,-213.2 279.72,-202.76 265.19,-192.81\"/>\n<polygon fill=\"black\" stroke=\"black\" points=\"266.95,-189.78 256.72,-187.02 263,-195.56 266.95,-189.78\"/>\n</g>\n<!-- 7 -->\n<g id=\"node8\" class=\"node\">\n<title>7</title>\n<path fill=\"#e5813a\" stroke=\"black\" d=\"M421,-187C421,-187 316,-187 316,-187 310,-187 304,-181 304,-175 304,-175 304,-116 304,-116 304,-110 310,-104 316,-104 316,-104 421,-104 421,-104 427,-104 433,-110 433,-116 433,-116 433,-175 433,-175 433,-181 427,-187 421,-187\"/>\n<text text-anchor=\"start\" x=\"336.5\" y=\"-171.8\" font-family=\"Helvetica,sans-Serif\" font-size=\"14.00\">age ≤ 37.5</text>\n<text text-anchor=\"start\" x=\"333\" y=\"-156.8\" font-family=\"Helvetica,sans-Serif\" font-size=\"14.00\">gini = 0.007</text>\n<text text-anchor=\"start\" x=\"320\" y=\"-141.8\" font-family=\"Helvetica,sans-Serif\" font-size=\"14.00\">samples = 2141</text>\n<text text-anchor=\"start\" x=\"318\" y=\"-126.8\" font-family=\"Helvetica,sans-Serif\" font-size=\"14.00\">value = [2133, 8]</text>\n<text text-anchor=\"start\" x=\"312\" y=\"-111.8\" font-family=\"Helvetica,sans-Serif\" font-size=\"14.00\">class = Non&#45;stroke</text>\n</g>\n<!-- 3&#45;&gt;7 -->\n<g id=\"edge7\" class=\"edge\">\n<title>3&#45;&gt;7</title>\n<path fill=\"none\" stroke=\"black\" d=\"M368.5,-222.91C368.5,-214.65 368.5,-205.86 368.5,-197.3\"/>\n<polygon fill=\"black\" stroke=\"black\" points=\"372,-197.02 368.5,-187.02 365,-197.02 372,-197.02\"/>\n</g>\n<!-- 5 -->\n<g id=\"node6\" class=\"node\">\n<title>5</title>\n<path fill=\"#e5833c\" stroke=\"black\" d=\"M117,-68C117,-68 12,-68 12,-68 6,-68 0,-62 0,-56 0,-56 0,-12 0,-12 0,-6 6,0 12,0 12,0 117,0 117,0 123,0 129,-6 129,-12 129,-12 129,-56 129,-56 129,-62 123,-68 117,-68\"/>\n<text text-anchor=\"start\" x=\"29\" y=\"-52.8\" font-family=\"Helvetica,sans-Serif\" font-size=\"14.00\">gini = 0.033</text>\n<text text-anchor=\"start\" x=\"23.5\" y=\"-37.8\" font-family=\"Helvetica,sans-Serif\" font-size=\"14.00\">samples = 60</text>\n<text text-anchor=\"start\" x=\"21.5\" y=\"-22.8\" font-family=\"Helvetica,sans-Serif\" font-size=\"14.00\">value = [59, 1]</text>\n<text text-anchor=\"start\" x=\"8\" y=\"-7.8\" font-family=\"Helvetica,sans-Serif\" font-size=\"14.00\">class = Non&#45;stroke</text>\n</g>\n<!-- 4&#45;&gt;5 -->\n<g id=\"edge5\" class=\"edge\">\n<title>4&#45;&gt;5</title>\n<path fill=\"none\" stroke=\"black\" d=\"M147.98,-103.73C136.45,-94.24 124.2,-84.16 112.74,-74.72\"/>\n<polygon fill=\"black\" stroke=\"black\" points=\"114.89,-71.95 104.95,-68.3 110.44,-77.36 114.89,-71.95\"/>\n</g>\n<!-- 6 -->\n<g id=\"node7\" class=\"node\">\n<title>6</title>\n<path fill=\"#399de5\" stroke=\"black\" d=\"M237.5,-68C237.5,-68 159.5,-68 159.5,-68 153.5,-68 147.5,-62 147.5,-56 147.5,-56 147.5,-12 147.5,-12 147.5,-6 153.5,0 159.5,0 159.5,0 237.5,0 237.5,0 243.5,0 249.5,-6 249.5,-12 249.5,-12 249.5,-56 249.5,-56 249.5,-62 243.5,-68 237.5,-68\"/>\n<text text-anchor=\"start\" x=\"170.5\" y=\"-52.8\" font-family=\"Helvetica,sans-Serif\" font-size=\"14.00\">gini = 0.0</text>\n<text text-anchor=\"start\" x=\"161\" y=\"-37.8\" font-family=\"Helvetica,sans-Serif\" font-size=\"14.00\">samples = 1</text>\n<text text-anchor=\"start\" x=\"159\" y=\"-22.8\" font-family=\"Helvetica,sans-Serif\" font-size=\"14.00\">value = [0, 1]</text>\n<text text-anchor=\"start\" x=\"155.5\" y=\"-7.8\" font-family=\"Helvetica,sans-Serif\" font-size=\"14.00\">class = Stroke</text>\n</g>\n<!-- 4&#45;&gt;6 -->\n<g id=\"edge6\" class=\"edge\">\n<title>4&#45;&gt;6</title>\n<path fill=\"none\" stroke=\"black\" d=\"M197.87,-103.73C197.95,-95.52 198.03,-86.86 198.1,-78.56\"/>\n<polygon fill=\"black\" stroke=\"black\" points=\"201.6,-78.33 198.2,-68.3 194.6,-78.27 201.6,-78.33\"/>\n</g>\n<!-- 8 -->\n<g id=\"node9\" class=\"node\">\n<title>8</title>\n<path fill=\"#e58139\" stroke=\"black\" d=\"M390,-68C390,-68 285,-68 285,-68 279,-68 273,-62 273,-56 273,-56 273,-12 273,-12 273,-6 279,0 285,0 285,0 390,0 390,0 396,0 402,-6 402,-12 402,-12 402,-56 402,-56 402,-62 396,-68 390,-68\"/>\n<text text-anchor=\"start\" x=\"302\" y=\"-52.8\" font-family=\"Helvetica,sans-Serif\" font-size=\"14.00\">gini = 0.003</text>\n<text text-anchor=\"start\" x=\"289\" y=\"-37.8\" font-family=\"Helvetica,sans-Serif\" font-size=\"14.00\">samples = 1575</text>\n<text text-anchor=\"start\" x=\"287\" y=\"-22.8\" font-family=\"Helvetica,sans-Serif\" font-size=\"14.00\">value = [1573, 2]</text>\n<text text-anchor=\"start\" x=\"281\" y=\"-7.8\" font-family=\"Helvetica,sans-Serif\" font-size=\"14.00\">class = Non&#45;stroke</text>\n</g>\n<!-- 7&#45;&gt;8 -->\n<g id=\"edge8\" class=\"edge\">\n<title>7&#45;&gt;8</title>\n<path fill=\"none\" stroke=\"black\" d=\"M356.96,-103.73C354.58,-95.34 352.07,-86.47 349.68,-78.01\"/>\n<polygon fill=\"black\" stroke=\"black\" points=\"353.02,-76.97 346.93,-68.3 346.28,-78.87 353.02,-76.97\"/>\n</g>\n<!-- 9 -->\n<g id=\"node10\" class=\"node\">\n<title>9</title>\n<path fill=\"#e5823b\" stroke=\"black\" d=\"M537,-68C537,-68 432,-68 432,-68 426,-68 420,-62 420,-56 420,-56 420,-12 420,-12 420,-6 426,0 432,0 432,0 537,0 537,0 543,0 549,-6 549,-12 549,-12 549,-56 549,-56 549,-62 543,-68 537,-68\"/>\n<text text-anchor=\"start\" x=\"449\" y=\"-52.8\" font-family=\"Helvetica,sans-Serif\" font-size=\"14.00\">gini = 0.021</text>\n<text text-anchor=\"start\" x=\"439.5\" y=\"-37.8\" font-family=\"Helvetica,sans-Serif\" font-size=\"14.00\">samples = 566</text>\n<text text-anchor=\"start\" x=\"437.5\" y=\"-22.8\" font-family=\"Helvetica,sans-Serif\" font-size=\"14.00\">value = [560, 6]</text>\n<text text-anchor=\"start\" x=\"428\" y=\"-7.8\" font-family=\"Helvetica,sans-Serif\" font-size=\"14.00\">class = Non&#45;stroke</text>\n</g>\n<!-- 7&#45;&gt;9 -->\n<g id=\"edge9\" class=\"edge\">\n<title>7&#45;&gt;9</title>\n<path fill=\"none\" stroke=\"black\" d=\"M411.69,-103.73C421.55,-94.42 432.02,-84.54 441.85,-75.26\"/>\n<polygon fill=\"black\" stroke=\"black\" points=\"444.35,-77.71 449.22,-68.3 439.55,-72.62 444.35,-77.71\"/>\n</g>\n<!-- 11 -->\n<g id=\"node12\" class=\"node\">\n<title>11</title>\n<path fill=\"#399de5\" stroke=\"black\" d=\"M541.5,-179.5C541.5,-179.5 463.5,-179.5 463.5,-179.5 457.5,-179.5 451.5,-173.5 451.5,-167.5 451.5,-167.5 451.5,-123.5 451.5,-123.5 451.5,-117.5 457.5,-111.5 463.5,-111.5 463.5,-111.5 541.5,-111.5 541.5,-111.5 547.5,-111.5 553.5,-117.5 553.5,-123.5 553.5,-123.5 553.5,-167.5 553.5,-167.5 553.5,-173.5 547.5,-179.5 541.5,-179.5\"/>\n<text text-anchor=\"start\" x=\"474.5\" y=\"-164.3\" font-family=\"Helvetica,sans-Serif\" font-size=\"14.00\">gini = 0.0</text>\n<text text-anchor=\"start\" x=\"465\" y=\"-149.3\" font-family=\"Helvetica,sans-Serif\" font-size=\"14.00\">samples = 1</text>\n<text text-anchor=\"start\" x=\"463\" y=\"-134.3\" font-family=\"Helvetica,sans-Serif\" font-size=\"14.00\">value = [0, 1]</text>\n<text text-anchor=\"start\" x=\"459.5\" y=\"-119.3\" font-family=\"Helvetica,sans-Serif\" font-size=\"14.00\">class = Stroke</text>\n</g>\n<!-- 10&#45;&gt;11 -->\n<g id=\"edge11\" class=\"edge\">\n<title>10&#45;&gt;11</title>\n<path fill=\"none\" stroke=\"black\" d=\"M559.32,-222.91C550.86,-211.54 541.67,-199.18 533.19,-187.77\"/>\n<polygon fill=\"black\" stroke=\"black\" points=\"535.94,-185.6 527.16,-179.67 530.32,-189.78 535.94,-185.6\"/>\n</g>\n<!-- 12 -->\n<g id=\"node13\" class=\"node\">\n<title>12</title>\n<path fill=\"#e58139\" stroke=\"black\" d=\"M689,-179.5C689,-179.5 584,-179.5 584,-179.5 578,-179.5 572,-173.5 572,-167.5 572,-167.5 572,-123.5 572,-123.5 572,-117.5 578,-111.5 584,-111.5 584,-111.5 689,-111.5 689,-111.5 695,-111.5 701,-117.5 701,-123.5 701,-123.5 701,-167.5 701,-167.5 701,-173.5 695,-179.5 689,-179.5\"/>\n<text text-anchor=\"start\" x=\"608.5\" y=\"-164.3\" font-family=\"Helvetica,sans-Serif\" font-size=\"14.00\">gini = 0.0</text>\n<text text-anchor=\"start\" x=\"599\" y=\"-149.3\" font-family=\"Helvetica,sans-Serif\" font-size=\"14.00\">samples = 8</text>\n<text text-anchor=\"start\" x=\"597\" y=\"-134.3\" font-family=\"Helvetica,sans-Serif\" font-size=\"14.00\">value = [8, 0]</text>\n<text text-anchor=\"start\" x=\"580\" y=\"-119.3\" font-family=\"Helvetica,sans-Serif\" font-size=\"14.00\">class = Non&#45;stroke</text>\n</g>\n<!-- 10&#45;&gt;12 -->\n<g id=\"edge12\" class=\"edge\">\n<title>10&#45;&gt;12</title>\n<path fill=\"none\" stroke=\"black\" d=\"M605.81,-222.91C610.19,-211.98 614.95,-200.14 619.38,-189.11\"/>\n<polygon fill=\"black\" stroke=\"black\" points=\"622.7,-190.25 623.18,-179.67 616.2,-187.64 622.7,-190.25\"/>\n</g>\n<!-- 14 -->\n<g id=\"node15\" class=\"node\">\n<title>14</title>\n<path fill=\"#e68540\" stroke=\"black\" d=\"M1055,-306C1055,-306 950,-306 950,-306 944,-306 938,-300 938,-294 938,-294 938,-235 938,-235 938,-229 944,-223 950,-223 950,-223 1055,-223 1055,-223 1061,-223 1067,-229 1067,-235 1067,-235 1067,-294 1067,-294 1067,-300 1061,-306 1055,-306\"/>\n<text text-anchor=\"start\" x=\"946\" y=\"-290.8\" font-family=\"Helvetica,sans-Serif\" font-size=\"14.00\">marriage_No ≤ 0.5</text>\n<text text-anchor=\"start\" x=\"967\" y=\"-275.8\" font-family=\"Helvetica,sans-Serif\" font-size=\"14.00\">gini = 0.062</text>\n<text text-anchor=\"start\" x=\"957.5\" y=\"-260.8\" font-family=\"Helvetica,sans-Serif\" font-size=\"14.00\">samples = 783</text>\n<text text-anchor=\"start\" x=\"952\" y=\"-245.8\" font-family=\"Helvetica,sans-Serif\" font-size=\"14.00\">value = [758, 25]</text>\n<text text-anchor=\"start\" x=\"946\" y=\"-230.8\" font-family=\"Helvetica,sans-Serif\" font-size=\"14.00\">class = Non&#45;stroke</text>\n</g>\n<!-- 13&#45;&gt;14 -->\n<g id=\"edge14\" class=\"edge\">\n<title>13&#45;&gt;14</title>\n<path fill=\"none\" stroke=\"black\" d=\"M1080.21,-341.91C1070.8,-332.65 1060.71,-322.73 1051.02,-313.21\"/>\n<polygon fill=\"black\" stroke=\"black\" points=\"1053.3,-310.54 1043.71,-306.02 1048.39,-315.53 1053.3,-310.54\"/>\n</g>\n<!-- 21 -->\n<g id=\"node22\" class=\"node\">\n<title>21</title>\n<path fill=\"#e88e4e\" stroke=\"black\" d=\"M1295,-306C1295,-306 1184,-306 1184,-306 1178,-306 1172,-300 1172,-294 1172,-294 1172,-235 1172,-235 1172,-229 1178,-223 1184,-223 1184,-223 1295,-223 1295,-223 1301,-223 1307,-229 1307,-235 1307,-235 1307,-294 1307,-294 1307,-300 1301,-306 1295,-306\"/>\n<text text-anchor=\"start\" x=\"1180\" y=\"-290.8\" font-family=\"Helvetica,sans-Serif\" font-size=\"14.00\">heart_disease ≤ 0.5</text>\n<text text-anchor=\"start\" x=\"1204\" y=\"-275.8\" font-family=\"Helvetica,sans-Serif\" font-size=\"14.00\">gini = 0.171</text>\n<text text-anchor=\"start\" x=\"1194.5\" y=\"-260.8\" font-family=\"Helvetica,sans-Serif\" font-size=\"14.00\">samples = 402</text>\n<text text-anchor=\"start\" x=\"1189\" y=\"-245.8\" font-family=\"Helvetica,sans-Serif\" font-size=\"14.00\">value = [364, 38]</text>\n<text text-anchor=\"start\" x=\"1183\" y=\"-230.8\" font-family=\"Helvetica,sans-Serif\" font-size=\"14.00\">class = Non&#45;stroke</text>\n</g>\n<!-- 13&#45;&gt;21 -->\n<g id=\"edge21\" class=\"edge\">\n<title>13&#45;&gt;21</title>\n<path fill=\"none\" stroke=\"black\" d=\"M1162.44,-341.91C1171.78,-332.65 1181.78,-322.73 1191.38,-313.21\"/>\n<polygon fill=\"black\" stroke=\"black\" points=\"1194,-315.55 1198.63,-306.02 1189.07,-310.58 1194,-315.55\"/>\n</g>\n<!-- 15 -->\n<g id=\"node16\" class=\"node\">\n<title>15</title>\n<path fill=\"#e6853f\" stroke=\"black\" d=\"M836,-187C836,-187 731,-187 731,-187 725,-187 719,-181 719,-175 719,-175 719,-116 719,-116 719,-110 725,-104 731,-104 731,-104 836,-104 836,-104 842,-104 848,-110 848,-116 848,-116 848,-175 848,-175 848,-181 842,-187 836,-187\"/>\n<text text-anchor=\"start\" x=\"747.5\" y=\"-171.8\" font-family=\"Helvetica,sans-Serif\" font-size=\"14.00\">bmi ≤ 31.75</text>\n<text text-anchor=\"start\" x=\"748\" y=\"-156.8\" font-family=\"Helvetica,sans-Serif\" font-size=\"14.00\">gini = 0.054</text>\n<text text-anchor=\"start\" x=\"738.5\" y=\"-141.8\" font-family=\"Helvetica,sans-Serif\" font-size=\"14.00\">samples = 718</text>\n<text text-anchor=\"start\" x=\"733\" y=\"-126.8\" font-family=\"Helvetica,sans-Serif\" font-size=\"14.00\">value = [698, 20]</text>\n<text text-anchor=\"start\" x=\"727\" y=\"-111.8\" font-family=\"Helvetica,sans-Serif\" font-size=\"14.00\">class = Non&#45;stroke</text>\n</g>\n<!-- 14&#45;&gt;15 -->\n<g id=\"edge15\" class=\"edge\">\n<title>14&#45;&gt;15</title>\n<path fill=\"none\" stroke=\"black\" d=\"M937.98,-229.03C912.7,-215.52 883.54,-199.95 857.42,-185.99\"/>\n<polygon fill=\"black\" stroke=\"black\" points=\"858.79,-182.75 848.32,-181.13 855.49,-188.93 858.79,-182.75\"/>\n</g>\n<!-- 18 -->\n<g id=\"node19\" class=\"node\">\n<title>18</title>\n<path fill=\"#e78c49\" stroke=\"black\" d=\"M1055,-187C1055,-187 950,-187 950,-187 944,-187 938,-181 938,-175 938,-175 938,-116 938,-116 938,-110 944,-104 950,-104 950,-104 1055,-104 1055,-104 1061,-104 1067,-110 1067,-116 1067,-116 1067,-175 1067,-175 1067,-181 1061,-187 1055,-187\"/>\n<text text-anchor=\"start\" x=\"966.5\" y=\"-171.8\" font-family=\"Helvetica,sans-Serif\" font-size=\"14.00\">bmi ≤ 29.55</text>\n<text text-anchor=\"start\" x=\"967\" y=\"-156.8\" font-family=\"Helvetica,sans-Serif\" font-size=\"14.00\">gini = 0.142</text>\n<text text-anchor=\"start\" x=\"961.5\" y=\"-141.8\" font-family=\"Helvetica,sans-Serif\" font-size=\"14.00\">samples = 65</text>\n<text text-anchor=\"start\" x=\"959.5\" y=\"-126.8\" font-family=\"Helvetica,sans-Serif\" font-size=\"14.00\">value = [60, 5]</text>\n<text text-anchor=\"start\" x=\"946\" y=\"-111.8\" font-family=\"Helvetica,sans-Serif\" font-size=\"14.00\">class = Non&#45;stroke</text>\n</g>\n<!-- 14&#45;&gt;18 -->\n<g id=\"edge18\" class=\"edge\">\n<title>14&#45;&gt;18</title>\n<path fill=\"none\" stroke=\"black\" d=\"M1002.5,-222.91C1002.5,-214.65 1002.5,-205.86 1002.5,-197.3\"/>\n<polygon fill=\"black\" stroke=\"black\" points=\"1006,-197.02 1002.5,-187.02 999,-197.02 1006,-197.02\"/>\n</g>\n<!-- 16 -->\n<g id=\"node17\" class=\"node\">\n<title>16</title>\n<path fill=\"#e68641\" stroke=\"black\" d=\"M687,-68C687,-68 582,-68 582,-68 576,-68 570,-62 570,-56 570,-56 570,-12 570,-12 570,-6 576,0 582,0 582,0 687,0 687,0 693,0 699,-6 699,-12 699,-12 699,-56 699,-56 699,-62 693,-68 687,-68\"/>\n<text text-anchor=\"start\" x=\"599\" y=\"-52.8\" font-family=\"Helvetica,sans-Serif\" font-size=\"14.00\">gini = 0.074</text>\n<text text-anchor=\"start\" x=\"589.5\" y=\"-37.8\" font-family=\"Helvetica,sans-Serif\" font-size=\"14.00\">samples = 470</text>\n<text text-anchor=\"start\" x=\"584\" y=\"-22.8\" font-family=\"Helvetica,sans-Serif\" font-size=\"14.00\">value = [452, 18]</text>\n<text text-anchor=\"start\" x=\"578\" y=\"-7.8\" font-family=\"Helvetica,sans-Serif\" font-size=\"14.00\">class = Non&#45;stroke</text>\n</g>\n<!-- 15&#45;&gt;16 -->\n<g id=\"edge16\" class=\"edge\">\n<title>15&#45;&gt;16</title>\n<path fill=\"none\" stroke=\"black\" d=\"M728.02,-103.73C714.99,-94.15 701.12,-83.96 688.17,-74.44\"/>\n<polygon fill=\"black\" stroke=\"black\" points=\"689.94,-71.4 679.81,-68.3 685.8,-77.04 689.94,-71.4\"/>\n</g>\n<!-- 17 -->\n<g id=\"node18\" class=\"node\">\n<title>17</title>\n<path fill=\"#e5823b\" stroke=\"black\" d=\"M834,-68C834,-68 729,-68 729,-68 723,-68 717,-62 717,-56 717,-56 717,-12 717,-12 717,-6 723,0 729,0 729,0 834,0 834,0 840,0 846,-6 846,-12 846,-12 846,-56 846,-56 846,-62 840,-68 834,-68\"/>\n<text text-anchor=\"start\" x=\"746\" y=\"-52.8\" font-family=\"Helvetica,sans-Serif\" font-size=\"14.00\">gini = 0.016</text>\n<text text-anchor=\"start\" x=\"736.5\" y=\"-37.8\" font-family=\"Helvetica,sans-Serif\" font-size=\"14.00\">samples = 248</text>\n<text text-anchor=\"start\" x=\"734.5\" y=\"-22.8\" font-family=\"Helvetica,sans-Serif\" font-size=\"14.00\">value = [246, 2]</text>\n<text text-anchor=\"start\" x=\"725\" y=\"-7.8\" font-family=\"Helvetica,sans-Serif\" font-size=\"14.00\">class = Non&#45;stroke</text>\n</g>\n<!-- 15&#45;&gt;17 -->\n<g id=\"edge17\" class=\"edge\">\n<title>15&#45;&gt;17</title>\n<path fill=\"none\" stroke=\"black\" d=\"M782.76,-103.73C782.61,-95.52 782.45,-86.86 782.3,-78.56\"/>\n<polygon fill=\"black\" stroke=\"black\" points=\"785.79,-78.23 782.11,-68.3 778.79,-78.36 785.79,-78.23\"/>\n</g>\n<!-- 19 -->\n<g id=\"node20\" class=\"node\">\n<title>19</title>\n<path fill=\"#e58139\" stroke=\"black\" d=\"M981,-68C981,-68 876,-68 876,-68 870,-68 864,-62 864,-56 864,-56 864,-12 864,-12 864,-6 870,0 876,0 876,0 981,0 981,0 987,0 993,-6 993,-12 993,-12 993,-56 993,-56 993,-62 987,-68 981,-68\"/>\n<text text-anchor=\"start\" x=\"900.5\" y=\"-52.8\" font-family=\"Helvetica,sans-Serif\" font-size=\"14.00\">gini = 0.0</text>\n<text text-anchor=\"start\" x=\"887.5\" y=\"-37.8\" font-family=\"Helvetica,sans-Serif\" font-size=\"14.00\">samples = 35</text>\n<text text-anchor=\"start\" x=\"885.5\" y=\"-22.8\" font-family=\"Helvetica,sans-Serif\" font-size=\"14.00\">value = [35, 0]</text>\n<text text-anchor=\"start\" x=\"872\" y=\"-7.8\" font-family=\"Helvetica,sans-Serif\" font-size=\"14.00\">class = Non&#45;stroke</text>\n</g>\n<!-- 18&#45;&gt;19 -->\n<g id=\"edge19\" class=\"edge\">\n<title>18&#45;&gt;19</title>\n<path fill=\"none\" stroke=\"black\" d=\"M974.95,-103.73C968.97,-94.88 962.63,-85.51 956.63,-76.63\"/>\n<polygon fill=\"black\" stroke=\"black\" points=\"959.5,-74.63 951,-68.3 953.7,-78.54 959.5,-74.63\"/>\n</g>\n<!-- 20 -->\n<g id=\"node21\" class=\"node\">\n<title>20</title>\n<path fill=\"#ea9a61\" stroke=\"black\" d=\"M1128,-68C1128,-68 1023,-68 1023,-68 1017,-68 1011,-62 1011,-56 1011,-56 1011,-12 1011,-12 1011,-6 1017,0 1023,0 1023,0 1128,0 1128,0 1134,0 1140,-6 1140,-12 1140,-12 1140,-56 1140,-56 1140,-62 1134,-68 1128,-68\"/>\n<text text-anchor=\"start\" x=\"1040\" y=\"-52.8\" font-family=\"Helvetica,sans-Serif\" font-size=\"14.00\">gini = 0.278</text>\n<text text-anchor=\"start\" x=\"1034.5\" y=\"-37.8\" font-family=\"Helvetica,sans-Serif\" font-size=\"14.00\">samples = 30</text>\n<text text-anchor=\"start\" x=\"1032.5\" y=\"-22.8\" font-family=\"Helvetica,sans-Serif\" font-size=\"14.00\">value = [25, 5]</text>\n<text text-anchor=\"start\" x=\"1019\" y=\"-7.8\" font-family=\"Helvetica,sans-Serif\" font-size=\"14.00\">class = Non&#45;stroke</text>\n</g>\n<!-- 18&#45;&gt;20 -->\n<g id=\"edge20\" class=\"edge\">\n<title>18&#45;&gt;20</title>\n<path fill=\"none\" stroke=\"black\" d=\"M1029.68,-103.73C1035.58,-94.88 1041.83,-85.51 1047.75,-76.63\"/>\n<polygon fill=\"black\" stroke=\"black\" points=\"1050.67,-78.56 1053.3,-68.3 1044.84,-74.68 1050.67,-78.56\"/>\n</g>\n<!-- 22 -->\n<g id=\"node23\" class=\"node\">\n<title>22</title>\n<path fill=\"#e78c49\" stroke=\"black\" d=\"M1323,-187C1323,-187 1156,-187 1156,-187 1150,-187 1144,-181 1144,-175 1144,-175 1144,-116 1144,-116 1144,-110 1150,-104 1156,-104 1156,-104 1323,-104 1323,-104 1329,-104 1335,-110 1335,-116 1335,-116 1335,-175 1335,-175 1335,-181 1329,-187 1323,-187\"/>\n<text text-anchor=\"start\" x=\"1152\" y=\"-171.8\" font-family=\"Helvetica,sans-Serif\" font-size=\"14.00\">avg_glucose_level ≤ 110.525</text>\n<text text-anchor=\"start\" x=\"1204\" y=\"-156.8\" font-family=\"Helvetica,sans-Serif\" font-size=\"14.00\">gini = 0.142</text>\n<text text-anchor=\"start\" x=\"1194.5\" y=\"-141.8\" font-family=\"Helvetica,sans-Serif\" font-size=\"14.00\">samples = 364</text>\n<text text-anchor=\"start\" x=\"1189\" y=\"-126.8\" font-family=\"Helvetica,sans-Serif\" font-size=\"14.00\">value = [336, 28]</text>\n<text text-anchor=\"start\" x=\"1183\" y=\"-111.8\" font-family=\"Helvetica,sans-Serif\" font-size=\"14.00\">class = Non&#45;stroke</text>\n</g>\n<!-- 21&#45;&gt;22 -->\n<g id=\"edge22\" class=\"edge\">\n<title>21&#45;&gt;22</title>\n<path fill=\"none\" stroke=\"black\" d=\"M1239.5,-222.91C1239.5,-214.65 1239.5,-205.86 1239.5,-197.3\"/>\n<polygon fill=\"black\" stroke=\"black\" points=\"1243,-197.02 1239.5,-187.02 1236,-197.02 1243,-197.02\"/>\n</g>\n<!-- 25 -->\n<g id=\"node26\" class=\"node\">\n<title>25</title>\n<path fill=\"#eeae80\" stroke=\"black\" d=\"M1561,-187C1561,-187 1394,-187 1394,-187 1388,-187 1382,-181 1382,-175 1382,-175 1382,-116 1382,-116 1382,-110 1388,-104 1394,-104 1394,-104 1561,-104 1561,-104 1567,-104 1573,-110 1573,-116 1573,-116 1573,-175 1573,-175 1573,-181 1567,-187 1561,-187\"/>\n<text text-anchor=\"start\" x=\"1390\" y=\"-171.8\" font-family=\"Helvetica,sans-Serif\" font-size=\"14.00\">avg_glucose_level ≤ 122.205</text>\n<text text-anchor=\"start\" x=\"1442\" y=\"-156.8\" font-family=\"Helvetica,sans-Serif\" font-size=\"14.00\">gini = 0.388</text>\n<text text-anchor=\"start\" x=\"1436.5\" y=\"-141.8\" font-family=\"Helvetica,sans-Serif\" font-size=\"14.00\">samples = 38</text>\n<text text-anchor=\"start\" x=\"1430.5\" y=\"-126.8\" font-family=\"Helvetica,sans-Serif\" font-size=\"14.00\">value = [28, 10]</text>\n<text text-anchor=\"start\" x=\"1421\" y=\"-111.8\" font-family=\"Helvetica,sans-Serif\" font-size=\"14.00\">class = Non&#45;stroke</text>\n</g>\n<!-- 21&#45;&gt;25 -->\n<g id=\"edge25\" class=\"edge\">\n<title>21&#45;&gt;25</title>\n<path fill=\"none\" stroke=\"black\" d=\"M1307.06,-230.29C1331.53,-218.26 1359.58,-204.47 1385.78,-191.59\"/>\n<polygon fill=\"black\" stroke=\"black\" points=\"1387.52,-194.63 1394.95,-187.08 1384.43,-188.35 1387.52,-194.63\"/>\n</g>\n<!-- 23 -->\n<g id=\"node24\" class=\"node\">\n<title>23</title>\n<path fill=\"#399de5\" stroke=\"black\" d=\"M1248.5,-68C1248.5,-68 1170.5,-68 1170.5,-68 1164.5,-68 1158.5,-62 1158.5,-56 1158.5,-56 1158.5,-12 1158.5,-12 1158.5,-6 1164.5,0 1170.5,0 1170.5,0 1248.5,0 1248.5,0 1254.5,0 1260.5,-6 1260.5,-12 1260.5,-12 1260.5,-56 1260.5,-56 1260.5,-62 1254.5,-68 1248.5,-68\"/>\n<text text-anchor=\"start\" x=\"1181.5\" y=\"-52.8\" font-family=\"Helvetica,sans-Serif\" font-size=\"14.00\">gini = 0.0</text>\n<text text-anchor=\"start\" x=\"1172\" y=\"-37.8\" font-family=\"Helvetica,sans-Serif\" font-size=\"14.00\">samples = 1</text>\n<text text-anchor=\"start\" x=\"1170\" y=\"-22.8\" font-family=\"Helvetica,sans-Serif\" font-size=\"14.00\">value = [0, 1]</text>\n<text text-anchor=\"start\" x=\"1166.5\" y=\"-7.8\" font-family=\"Helvetica,sans-Serif\" font-size=\"14.00\">class = Stroke</text>\n</g>\n<!-- 22&#45;&gt;23 -->\n<g id=\"edge23\" class=\"edge\">\n<title>22&#45;&gt;23</title>\n<path fill=\"none\" stroke=\"black\" d=\"M1228.33,-103.73C1226.03,-95.34 1223.6,-86.47 1221.28,-78.01\"/>\n<polygon fill=\"black\" stroke=\"black\" points=\"1224.64,-77.02 1218.62,-68.3 1217.89,-78.87 1224.64,-77.02\"/>\n</g>\n<!-- 24 -->\n<g id=\"node25\" class=\"node\">\n<title>24</title>\n<path fill=\"#e78b49\" stroke=\"black\" d=\"M1396,-68C1396,-68 1291,-68 1291,-68 1285,-68 1279,-62 1279,-56 1279,-56 1279,-12 1279,-12 1279,-6 1285,0 1291,0 1291,0 1396,0 1396,0 1402,0 1408,-6 1408,-12 1408,-12 1408,-56 1408,-56 1408,-62 1402,-68 1396,-68\"/>\n<text text-anchor=\"start\" x=\"1308\" y=\"-52.8\" font-family=\"Helvetica,sans-Serif\" font-size=\"14.00\">gini = 0.138</text>\n<text text-anchor=\"start\" x=\"1298.5\" y=\"-37.8\" font-family=\"Helvetica,sans-Serif\" font-size=\"14.00\">samples = 363</text>\n<text text-anchor=\"start\" x=\"1293\" y=\"-22.8\" font-family=\"Helvetica,sans-Serif\" font-size=\"14.00\">value = [336, 27]</text>\n<text text-anchor=\"start\" x=\"1287\" y=\"-7.8\" font-family=\"Helvetica,sans-Serif\" font-size=\"14.00\">class = Non&#45;stroke</text>\n</g>\n<!-- 22&#45;&gt;24 -->\n<g id=\"edge24\" class=\"edge\">\n<title>22&#45;&gt;24</title>\n<path fill=\"none\" stroke=\"black\" d=\"M1278.23,-103.73C1286.89,-94.61 1296.08,-84.93 1304.74,-75.81\"/>\n<polygon fill=\"black\" stroke=\"black\" points=\"1307.52,-77.96 1311.87,-68.3 1302.45,-73.14 1307.52,-77.96\"/>\n</g>\n<!-- 26 -->\n<g id=\"node27\" class=\"node\">\n<title>26</title>\n<path fill=\"#7bbeee\" stroke=\"black\" d=\"M1516.5,-68C1516.5,-68 1438.5,-68 1438.5,-68 1432.5,-68 1426.5,-62 1426.5,-56 1426.5,-56 1426.5,-12 1426.5,-12 1426.5,-6 1432.5,0 1438.5,0 1438.5,0 1516.5,0 1516.5,0 1522.5,0 1528.5,-6 1528.5,-12 1528.5,-12 1528.5,-56 1528.5,-56 1528.5,-62 1522.5,-68 1516.5,-68\"/>\n<text text-anchor=\"start\" x=\"1442\" y=\"-52.8\" font-family=\"Helvetica,sans-Serif\" font-size=\"14.00\">gini = 0.375</text>\n<text text-anchor=\"start\" x=\"1440\" y=\"-37.8\" font-family=\"Helvetica,sans-Serif\" font-size=\"14.00\">samples = 4</text>\n<text text-anchor=\"start\" x=\"1438\" y=\"-22.8\" font-family=\"Helvetica,sans-Serif\" font-size=\"14.00\">value = [1, 3]</text>\n<text text-anchor=\"start\" x=\"1434.5\" y=\"-7.8\" font-family=\"Helvetica,sans-Serif\" font-size=\"14.00\">class = Stroke</text>\n</g>\n<!-- 25&#45;&gt;26 -->\n<g id=\"edge26\" class=\"edge\">\n<title>25&#45;&gt;26</title>\n<path fill=\"none\" stroke=\"black\" d=\"M1477.5,-103.73C1477.5,-95.52 1477.5,-86.86 1477.5,-78.56\"/>\n<polygon fill=\"black\" stroke=\"black\" points=\"1481,-78.3 1477.5,-68.3 1474,-78.3 1481,-78.3\"/>\n</g>\n<!-- 27 -->\n<g id=\"node28\" class=\"node\">\n<title>27</title>\n<path fill=\"#eca26c\" stroke=\"black\" d=\"M1664,-68C1664,-68 1559,-68 1559,-68 1553,-68 1547,-62 1547,-56 1547,-56 1547,-12 1547,-12 1547,-6 1553,0 1559,0 1559,0 1664,0 1664,0 1670,0 1676,-6 1676,-12 1676,-12 1676,-56 1676,-56 1676,-62 1670,-68 1664,-68\"/>\n<text text-anchor=\"start\" x=\"1576\" y=\"-52.8\" font-family=\"Helvetica,sans-Serif\" font-size=\"14.00\">gini = 0.327</text>\n<text text-anchor=\"start\" x=\"1570.5\" y=\"-37.8\" font-family=\"Helvetica,sans-Serif\" font-size=\"14.00\">samples = 34</text>\n<text text-anchor=\"start\" x=\"1568.5\" y=\"-22.8\" font-family=\"Helvetica,sans-Serif\" font-size=\"14.00\">value = [27, 7]</text>\n<text text-anchor=\"start\" x=\"1555\" y=\"-7.8\" font-family=\"Helvetica,sans-Serif\" font-size=\"14.00\">class = Non&#45;stroke</text>\n</g>\n<!-- 25&#45;&gt;27 -->\n<g id=\"edge27\" class=\"edge\">\n<title>25&#45;&gt;27</title>\n<path fill=\"none\" stroke=\"black\" d=\"M1527.4,-103.73C1539,-94.24 1551.35,-84.16 1562.9,-74.72\"/>\n<polygon fill=\"black\" stroke=\"black\" points=\"1565.22,-77.34 1570.75,-68.3 1560.79,-71.92 1565.22,-77.34\"/>\n</g>\n<!-- 29 -->\n<g id=\"node30\" class=\"node\">\n<title>29</title>\n<path fill=\"#e99456\" stroke=\"black\" d=\"M2191.5,-425C2191.5,-425 2075.5,-425 2075.5,-425 2069.5,-425 2063.5,-419 2063.5,-413 2063.5,-413 2063.5,-354 2063.5,-354 2063.5,-348 2069.5,-342 2075.5,-342 2075.5,-342 2191.5,-342 2191.5,-342 2197.5,-342 2203.5,-348 2203.5,-354 2203.5,-354 2203.5,-413 2203.5,-413 2203.5,-419 2197.5,-425 2191.5,-425\"/>\n<text text-anchor=\"start\" x=\"2097.5\" y=\"-409.8\" font-family=\"Helvetica,sans-Serif\" font-size=\"14.00\">bmi ≤ 34.45</text>\n<text text-anchor=\"start\" x=\"2098\" y=\"-394.8\" font-family=\"Helvetica,sans-Serif\" font-size=\"14.00\">gini = 0.224</text>\n<text text-anchor=\"start\" x=\"2088.5\" y=\"-379.8\" font-family=\"Helvetica,sans-Serif\" font-size=\"14.00\">samples = 357</text>\n<text text-anchor=\"start\" x=\"2071.5\" y=\"-364.8\" font-family=\"Helvetica,sans-Serif\" font-size=\"14.00\">value = [311.0, 46.0]</text>\n<text text-anchor=\"start\" x=\"2077\" y=\"-349.8\" font-family=\"Helvetica,sans-Serif\" font-size=\"14.00\">class = Non&#45;stroke</text>\n</g>\n<!-- 28&#45;&gt;29 -->\n<g id=\"edge29\" class=\"edge\">\n<title>28&#45;&gt;29</title>\n<path fill=\"none\" stroke=\"black\" d=\"M2133.5,-460.91C2133.5,-452.65 2133.5,-443.86 2133.5,-435.3\"/>\n<polygon fill=\"black\" stroke=\"black\" points=\"2137,-435.02 2133.5,-425.02 2130,-435.02 2137,-435.02\"/>\n</g>\n<!-- 42 -->\n<g id=\"node43\" class=\"node\">\n<title>42</title>\n<path fill=\"#eca06a\" stroke=\"black\" d=\"M2806,-425C2806,-425 2701,-425 2701,-425 2695,-425 2689,-419 2689,-413 2689,-413 2689,-354 2689,-354 2689,-348 2695,-342 2701,-342 2701,-342 2806,-342 2806,-342 2812,-342 2818,-348 2818,-354 2818,-354 2818,-413 2818,-413 2818,-419 2812,-425 2806,-425\"/>\n<text text-anchor=\"start\" x=\"2721.5\" y=\"-409.8\" font-family=\"Helvetica,sans-Serif\" font-size=\"14.00\">bmi ≤ 44.6</text>\n<text text-anchor=\"start\" x=\"2721.5\" y=\"-394.8\" font-family=\"Helvetica,sans-Serif\" font-size=\"14.00\">gini = 0.32</text>\n<text text-anchor=\"start\" x=\"2708.5\" y=\"-379.8\" font-family=\"Helvetica,sans-Serif\" font-size=\"14.00\">samples = 335</text>\n<text text-anchor=\"start\" x=\"2703\" y=\"-364.8\" font-family=\"Helvetica,sans-Serif\" font-size=\"14.00\">value = [268, 67]</text>\n<text text-anchor=\"start\" x=\"2697\" y=\"-349.8\" font-family=\"Helvetica,sans-Serif\" font-size=\"14.00\">class = Non&#45;stroke</text>\n</g>\n<!-- 28&#45;&gt;42 -->\n<g id=\"edge42\" class=\"edge\">\n<title>28&#45;&gt;42</title>\n<path fill=\"none\" stroke=\"black\" d=\"M2207.06,-487.62C2325.96,-465.18 2559.13,-421.18 2678.78,-398.6\"/>\n<polygon fill=\"black\" stroke=\"black\" points=\"2679.77,-401.98 2688.95,-396.68 2678.47,-395.1 2679.77,-401.98\"/>\n</g>\n<!-- 30 -->\n<g id=\"node31\" class=\"node\">\n<title>30</title>\n<path fill=\"#ea975c\" stroke=\"black\" d=\"M2111,-306C2111,-306 2006,-306 2006,-306 2000,-306 1994,-300 1994,-294 1994,-294 1994,-235 1994,-235 1994,-229 2000,-223 2006,-223 2006,-223 2111,-223 2111,-223 2117,-223 2123,-229 2123,-235 2123,-235 2123,-294 2123,-294 2123,-300 2117,-306 2111,-306\"/>\n<text text-anchor=\"start\" x=\"2022.5\" y=\"-290.8\" font-family=\"Helvetica,sans-Serif\" font-size=\"14.00\">bmi ≤ 34.05</text>\n<text text-anchor=\"start\" x=\"2023\" y=\"-275.8\" font-family=\"Helvetica,sans-Serif\" font-size=\"14.00\">gini = 0.255</text>\n<text text-anchor=\"start\" x=\"2013.5\" y=\"-260.8\" font-family=\"Helvetica,sans-Serif\" font-size=\"14.00\">samples = 300</text>\n<text text-anchor=\"start\" x=\"2008\" y=\"-245.8\" font-family=\"Helvetica,sans-Serif\" font-size=\"14.00\">value = [255, 45]</text>\n<text text-anchor=\"start\" x=\"2002\" y=\"-230.8\" font-family=\"Helvetica,sans-Serif\" font-size=\"14.00\">class = Non&#45;stroke</text>\n</g>\n<!-- 29&#45;&gt;30 -->\n<g id=\"edge30\" class=\"edge\">\n<title>29&#45;&gt;30</title>\n<path fill=\"none\" stroke=\"black\" d=\"M2107.48,-341.91C2101.84,-333.1 2095.81,-323.7 2089.98,-314.61\"/>\n<polygon fill=\"black\" stroke=\"black\" points=\"2092.82,-312.55 2084.47,-306.02 2086.93,-316.33 2092.82,-312.55\"/>\n</g>\n<!-- 37 -->\n<g id=\"node38\" class=\"node\">\n<title>37</title>\n<path fill=\"#e5833d\" stroke=\"black\" d=\"M2264,-306C2264,-306 2153,-306 2153,-306 2147,-306 2141,-300 2141,-294 2141,-294 2141,-235 2141,-235 2141,-229 2147,-223 2153,-223 2153,-223 2264,-223 2264,-223 2270,-223 2276,-229 2276,-235 2276,-235 2276,-294 2276,-294 2276,-300 2270,-306 2264,-306\"/>\n<text text-anchor=\"start\" x=\"2149\" y=\"-290.8\" font-family=\"Helvetica,sans-Serif\" font-size=\"14.00\">heart_disease ≤ 0.5</text>\n<text text-anchor=\"start\" x=\"2173\" y=\"-275.8\" font-family=\"Helvetica,sans-Serif\" font-size=\"14.00\">gini = 0.034</text>\n<text text-anchor=\"start\" x=\"2167.5\" y=\"-260.8\" font-family=\"Helvetica,sans-Serif\" font-size=\"14.00\">samples = 57</text>\n<text text-anchor=\"start\" x=\"2165.5\" y=\"-245.8\" font-family=\"Helvetica,sans-Serif\" font-size=\"14.00\">value = [56, 1]</text>\n<text text-anchor=\"start\" x=\"2152\" y=\"-230.8\" font-family=\"Helvetica,sans-Serif\" font-size=\"14.00\">class = Non&#45;stroke</text>\n</g>\n<!-- 29&#45;&gt;37 -->\n<g id=\"edge37\" class=\"edge\">\n<title>29&#45;&gt;37</title>\n<path fill=\"none\" stroke=\"black\" d=\"M2159.52,-341.91C2165.16,-333.1 2171.19,-323.7 2177.02,-314.61\"/>\n<polygon fill=\"black\" stroke=\"black\" points=\"2180.07,-316.33 2182.53,-306.02 2174.18,-312.55 2180.07,-316.33\"/>\n</g>\n<!-- 31 -->\n<g id=\"node32\" class=\"node\">\n<title>31</title>\n<path fill=\"#e99659\" stroke=\"black\" d=\"M1964.5,-187C1964.5,-187 1804.5,-187 1804.5,-187 1798.5,-187 1792.5,-181 1792.5,-175 1792.5,-175 1792.5,-116 1792.5,-116 1792.5,-110 1798.5,-104 1804.5,-104 1804.5,-104 1964.5,-104 1964.5,-104 1970.5,-104 1976.5,-110 1976.5,-116 1976.5,-116 1976.5,-175 1976.5,-175 1976.5,-181 1970.5,-187 1964.5,-187\"/>\n<text text-anchor=\"start\" x=\"1800.5\" y=\"-171.8\" font-family=\"Helvetica,sans-Serif\" font-size=\"14.00\">avg_glucose_level ≤ 87.785</text>\n<text text-anchor=\"start\" x=\"1849\" y=\"-156.8\" font-family=\"Helvetica,sans-Serif\" font-size=\"14.00\">gini = 0.242</text>\n<text text-anchor=\"start\" x=\"1839.5\" y=\"-141.8\" font-family=\"Helvetica,sans-Serif\" font-size=\"14.00\">samples = 291</text>\n<text text-anchor=\"start\" x=\"1822.5\" y=\"-126.8\" font-family=\"Helvetica,sans-Serif\" font-size=\"14.00\">value = [250.0, 41.0]</text>\n<text text-anchor=\"start\" x=\"1828\" y=\"-111.8\" font-family=\"Helvetica,sans-Serif\" font-size=\"14.00\">class = Non&#45;stroke</text>\n</g>\n<!-- 30&#45;&gt;31 -->\n<g id=\"edge31\" class=\"edge\">\n<title>30&#45;&gt;31</title>\n<path fill=\"none\" stroke=\"black\" d=\"M1998.13,-222.91C1983.69,-213.2 1968.17,-202.76 1953.37,-192.81\"/>\n<polygon fill=\"black\" stroke=\"black\" points=\"1955.01,-189.7 1944.76,-187.02 1951.11,-195.51 1955.01,-189.7\"/>\n</g>\n<!-- 34 -->\n<g id=\"node35\" class=\"node\">\n<title>34</title>\n<path fill=\"#fae6d7\" stroke=\"black\" d=\"M2112,-187C2112,-187 2007,-187 2007,-187 2001,-187 1995,-181 1995,-175 1995,-175 1995,-116 1995,-116 1995,-110 2001,-104 2007,-104 2007,-104 2112,-104 2112,-104 2118,-104 2124,-110 2124,-116 2124,-116 2124,-175 2124,-175 2124,-181 2118,-187 2112,-187\"/>\n<text text-anchor=\"start\" x=\"2023.5\" y=\"-171.8\" font-family=\"Helvetica,sans-Serif\" font-size=\"14.00\">bmi ≤ 34.25</text>\n<text text-anchor=\"start\" x=\"2024\" y=\"-156.8\" font-family=\"Helvetica,sans-Serif\" font-size=\"14.00\">gini = 0.494</text>\n<text text-anchor=\"start\" x=\"2022\" y=\"-141.8\" font-family=\"Helvetica,sans-Serif\" font-size=\"14.00\">samples = 9</text>\n<text text-anchor=\"start\" x=\"2020\" y=\"-126.8\" font-family=\"Helvetica,sans-Serif\" font-size=\"14.00\">value = [5, 4]</text>\n<text text-anchor=\"start\" x=\"2003\" y=\"-111.8\" font-family=\"Helvetica,sans-Serif\" font-size=\"14.00\">class = Non&#45;stroke</text>\n</g>\n<!-- 30&#45;&gt;34 -->\n<g id=\"edge34\" class=\"edge\">\n<title>30&#45;&gt;34</title>\n<path fill=\"none\" stroke=\"black\" d=\"M2058.85,-222.91C2058.92,-214.65 2058.99,-205.86 2059.07,-197.3\"/>\n<polygon fill=\"black\" stroke=\"black\" points=\"2062.57,-197.05 2059.15,-187.02 2055.57,-196.99 2062.57,-197.05\"/>\n</g>\n<!-- 32 -->\n<g id=\"node33\" class=\"node\">\n<title>32</title>\n<path fill=\"#e78d4c\" stroke=\"black\" d=\"M1811,-68C1811,-68 1706,-68 1706,-68 1700,-68 1694,-62 1694,-56 1694,-56 1694,-12 1694,-12 1694,-6 1700,0 1706,0 1706,0 1811,0 1811,0 1817,0 1823,-6 1823,-12 1823,-12 1823,-56 1823,-56 1823,-62 1817,-68 1811,-68\"/>\n<text text-anchor=\"start\" x=\"1723\" y=\"-52.8\" font-family=\"Helvetica,sans-Serif\" font-size=\"14.00\">gini = 0.156</text>\n<text text-anchor=\"start\" x=\"1713.5\" y=\"-37.8\" font-family=\"Helvetica,sans-Serif\" font-size=\"14.00\">samples = 117</text>\n<text text-anchor=\"start\" x=\"1708\" y=\"-22.8\" font-family=\"Helvetica,sans-Serif\" font-size=\"14.00\">value = [107, 10]</text>\n<text text-anchor=\"start\" x=\"1702\" y=\"-7.8\" font-family=\"Helvetica,sans-Serif\" font-size=\"14.00\">class = Non&#45;stroke</text>\n</g>\n<!-- 31&#45;&gt;32 -->\n<g id=\"edge32\" class=\"edge\">\n<title>31&#45;&gt;32</title>\n<path fill=\"none\" stroke=\"black\" d=\"M1837.58,-103.73C1826.77,-94.33 1815.29,-84.35 1804.51,-74.99\"/>\n<polygon fill=\"black\" stroke=\"black\" points=\"1806.66,-72.22 1796.82,-68.3 1802.07,-77.5 1806.66,-72.22\"/>\n</g>\n<!-- 33 -->\n<g id=\"node34\" class=\"node\">\n<title>33</title>\n<path fill=\"#eb9c64\" stroke=\"black\" d=\"M1958,-68C1958,-68 1853,-68 1853,-68 1847,-68 1841,-62 1841,-56 1841,-56 1841,-12 1841,-12 1841,-6 1847,0 1853,0 1853,0 1958,0 1958,0 1964,0 1970,-6 1970,-12 1970,-12 1970,-56 1970,-56 1970,-62 1964,-68 1958,-68\"/>\n<text text-anchor=\"start\" x=\"1870\" y=\"-52.8\" font-family=\"Helvetica,sans-Serif\" font-size=\"14.00\">gini = 0.293</text>\n<text text-anchor=\"start\" x=\"1860.5\" y=\"-37.8\" font-family=\"Helvetica,sans-Serif\" font-size=\"14.00\">samples = 174</text>\n<text text-anchor=\"start\" x=\"1855\" y=\"-22.8\" font-family=\"Helvetica,sans-Serif\" font-size=\"14.00\">value = [143, 31]</text>\n<text text-anchor=\"start\" x=\"1849\" y=\"-7.8\" font-family=\"Helvetica,sans-Serif\" font-size=\"14.00\">class = Non&#45;stroke</text>\n</g>\n<!-- 31&#45;&gt;33 -->\n<g id=\"edge33\" class=\"edge\">\n<title>31&#45;&gt;33</title>\n<path fill=\"none\" stroke=\"black\" d=\"M1892.32,-103.73C1893.91,-95.43 1895.59,-86.67 1897.2,-78.28\"/>\n<polygon fill=\"black\" stroke=\"black\" points=\"1900.67,-78.78 1899.11,-68.3 1893.79,-77.46 1900.67,-78.78\"/>\n</g>\n<!-- 35 -->\n<g id=\"node36\" class=\"node\">\n<title>35</title>\n<path fill=\"#399de5\" stroke=\"black\" d=\"M2078.5,-68C2078.5,-68 2000.5,-68 2000.5,-68 1994.5,-68 1988.5,-62 1988.5,-56 1988.5,-56 1988.5,-12 1988.5,-12 1988.5,-6 1994.5,0 2000.5,0 2000.5,0 2078.5,0 2078.5,0 2084.5,0 2090.5,-6 2090.5,-12 2090.5,-12 2090.5,-56 2090.5,-56 2090.5,-62 2084.5,-68 2078.5,-68\"/>\n<text text-anchor=\"start\" x=\"2011.5\" y=\"-52.8\" font-family=\"Helvetica,sans-Serif\" font-size=\"14.00\">gini = 0.0</text>\n<text text-anchor=\"start\" x=\"2002\" y=\"-37.8\" font-family=\"Helvetica,sans-Serif\" font-size=\"14.00\">samples = 3</text>\n<text text-anchor=\"start\" x=\"2000\" y=\"-22.8\" font-family=\"Helvetica,sans-Serif\" font-size=\"14.00\">value = [0, 3]</text>\n<text text-anchor=\"start\" x=\"1996.5\" y=\"-7.8\" font-family=\"Helvetica,sans-Serif\" font-size=\"14.00\">class = Stroke</text>\n</g>\n<!-- 34&#45;&gt;35 -->\n<g id=\"edge35\" class=\"edge\">\n<title>34&#45;&gt;35</title>\n<path fill=\"none\" stroke=\"black\" d=\"M2052.05,-103.73C2050.54,-95.43 2048.94,-86.67 2047.41,-78.28\"/>\n<polygon fill=\"black\" stroke=\"black\" points=\"2050.82,-77.51 2045.58,-68.3 2043.94,-78.77 2050.82,-77.51\"/>\n</g>\n<!-- 36 -->\n<g id=\"node37\" class=\"node\">\n<title>36</title>\n<path fill=\"#ea9a61\" stroke=\"black\" d=\"M2226,-68C2226,-68 2121,-68 2121,-68 2115,-68 2109,-62 2109,-56 2109,-56 2109,-12 2109,-12 2109,-6 2115,0 2121,0 2121,0 2226,0 2226,0 2232,0 2238,-6 2238,-12 2238,-12 2238,-56 2238,-56 2238,-62 2232,-68 2226,-68\"/>\n<text text-anchor=\"start\" x=\"2138\" y=\"-52.8\" font-family=\"Helvetica,sans-Serif\" font-size=\"14.00\">gini = 0.278</text>\n<text text-anchor=\"start\" x=\"2136\" y=\"-37.8\" font-family=\"Helvetica,sans-Serif\" font-size=\"14.00\">samples = 6</text>\n<text text-anchor=\"start\" x=\"2134\" y=\"-22.8\" font-family=\"Helvetica,sans-Serif\" font-size=\"14.00\">value = [5, 1]</text>\n<text text-anchor=\"start\" x=\"2117\" y=\"-7.8\" font-family=\"Helvetica,sans-Serif\" font-size=\"14.00\">class = Non&#45;stroke</text>\n</g>\n<!-- 34&#45;&gt;36 -->\n<g id=\"edge36\" class=\"edge\">\n<title>34&#45;&gt;36</title>\n<path fill=\"none\" stroke=\"black\" d=\"M2101.95,-103.73C2111.63,-94.42 2121.92,-84.54 2131.58,-75.26\"/>\n<polygon fill=\"black\" stroke=\"black\" points=\"2134.04,-77.75 2138.83,-68.3 2129.2,-72.7 2134.04,-77.75\"/>\n</g>\n<!-- 38 -->\n<g id=\"node39\" class=\"node\">\n<title>38</title>\n<path fill=\"#e58139\" stroke=\"black\" d=\"M2260,-179.5C2260,-179.5 2155,-179.5 2155,-179.5 2149,-179.5 2143,-173.5 2143,-167.5 2143,-167.5 2143,-123.5 2143,-123.5 2143,-117.5 2149,-111.5 2155,-111.5 2155,-111.5 2260,-111.5 2260,-111.5 2266,-111.5 2272,-117.5 2272,-123.5 2272,-123.5 2272,-167.5 2272,-167.5 2272,-173.5 2266,-179.5 2260,-179.5\"/>\n<text text-anchor=\"start\" x=\"2179.5\" y=\"-164.3\" font-family=\"Helvetica,sans-Serif\" font-size=\"14.00\">gini = 0.0</text>\n<text text-anchor=\"start\" x=\"2166.5\" y=\"-149.3\" font-family=\"Helvetica,sans-Serif\" font-size=\"14.00\">samples = 51</text>\n<text text-anchor=\"start\" x=\"2164.5\" y=\"-134.3\" font-family=\"Helvetica,sans-Serif\" font-size=\"14.00\">value = [51, 0]</text>\n<text text-anchor=\"start\" x=\"2151\" y=\"-119.3\" font-family=\"Helvetica,sans-Serif\" font-size=\"14.00\">class = Non&#45;stroke</text>\n</g>\n<!-- 37&#45;&gt;38 -->\n<g id=\"edge38\" class=\"edge\">\n<title>37&#45;&gt;38</title>\n<path fill=\"none\" stroke=\"black\" d=\"M2208.15,-222.91C2208.06,-212.2 2207.96,-200.62 2207.87,-189.78\"/>\n<polygon fill=\"black\" stroke=\"black\" points=\"2211.37,-189.64 2207.78,-179.67 2204.37,-189.7 2211.37,-189.64\"/>\n</g>\n<!-- 39 -->\n<g id=\"node40\" class=\"node\">\n<title>39</title>\n<path fill=\"#ea9a61\" stroke=\"black\" d=\"M2447,-187C2447,-187 2302,-187 2302,-187 2296,-187 2290,-181 2290,-175 2290,-175 2290,-116 2290,-116 2290,-110 2296,-104 2302,-104 2302,-104 2447,-104 2447,-104 2453,-104 2459,-110 2459,-116 2459,-116 2459,-175 2459,-175 2459,-181 2453,-187 2447,-187\"/>\n<text text-anchor=\"start\" x=\"2298\" y=\"-171.8\" font-family=\"Helvetica,sans-Serif\" font-size=\"14.00\">avg_glucose_level ≤ 80.5</text>\n<text text-anchor=\"start\" x=\"2339\" y=\"-156.8\" font-family=\"Helvetica,sans-Serif\" font-size=\"14.00\">gini = 0.278</text>\n<text text-anchor=\"start\" x=\"2337\" y=\"-141.8\" font-family=\"Helvetica,sans-Serif\" font-size=\"14.00\">samples = 6</text>\n<text text-anchor=\"start\" x=\"2335\" y=\"-126.8\" font-family=\"Helvetica,sans-Serif\" font-size=\"14.00\">value = [5, 1]</text>\n<text text-anchor=\"start\" x=\"2318\" y=\"-111.8\" font-family=\"Helvetica,sans-Serif\" font-size=\"14.00\">class = Non&#45;stroke</text>\n</g>\n<!-- 37&#45;&gt;39 -->\n<g id=\"edge39\" class=\"edge\">\n<title>37&#45;&gt;39</title>\n<path fill=\"none\" stroke=\"black\" d=\"M2266.09,-222.91C2279.87,-213.2 2294.68,-202.76 2308.79,-192.81\"/>\n<polygon fill=\"black\" stroke=\"black\" points=\"2310.85,-195.64 2317.01,-187.02 2306.82,-189.92 2310.85,-195.64\"/>\n</g>\n<!-- 40 -->\n<g id=\"node41\" class=\"node\">\n<title>40</title>\n<path fill=\"#399de5\" stroke=\"black\" d=\"M2346.5,-68C2346.5,-68 2268.5,-68 2268.5,-68 2262.5,-68 2256.5,-62 2256.5,-56 2256.5,-56 2256.5,-12 2256.5,-12 2256.5,-6 2262.5,0 2268.5,0 2268.5,0 2346.5,0 2346.5,0 2352.5,0 2358.5,-6 2358.5,-12 2358.5,-12 2358.5,-56 2358.5,-56 2358.5,-62 2352.5,-68 2346.5,-68\"/>\n<text text-anchor=\"start\" x=\"2279.5\" y=\"-52.8\" font-family=\"Helvetica,sans-Serif\" font-size=\"14.00\">gini = 0.0</text>\n<text text-anchor=\"start\" x=\"2270\" y=\"-37.8\" font-family=\"Helvetica,sans-Serif\" font-size=\"14.00\">samples = 1</text>\n<text text-anchor=\"start\" x=\"2268\" y=\"-22.8\" font-family=\"Helvetica,sans-Serif\" font-size=\"14.00\">value = [0, 1]</text>\n<text text-anchor=\"start\" x=\"2264.5\" y=\"-7.8\" font-family=\"Helvetica,sans-Serif\" font-size=\"14.00\">class = Stroke</text>\n</g>\n<!-- 39&#45;&gt;40 -->\n<g id=\"edge40\" class=\"edge\">\n<title>39&#45;&gt;40</title>\n<path fill=\"none\" stroke=\"black\" d=\"M2349.55,-103.73C2344.19,-94.97 2338.52,-85.7 2333.14,-76.91\"/>\n<polygon fill=\"black\" stroke=\"black\" points=\"2336.08,-75 2327.88,-68.3 2330.11,-78.66 2336.08,-75\"/>\n</g>\n<!-- 41 -->\n<g id=\"node42\" class=\"node\">\n<title>41</title>\n<path fill=\"#e58139\" stroke=\"black\" d=\"M2494,-68C2494,-68 2389,-68 2389,-68 2383,-68 2377,-62 2377,-56 2377,-56 2377,-12 2377,-12 2377,-6 2383,0 2389,0 2389,0 2494,0 2494,0 2500,0 2506,-6 2506,-12 2506,-12 2506,-56 2506,-56 2506,-62 2500,-68 2494,-68\"/>\n<text text-anchor=\"start\" x=\"2413.5\" y=\"-52.8\" font-family=\"Helvetica,sans-Serif\" font-size=\"14.00\">gini = 0.0</text>\n<text text-anchor=\"start\" x=\"2404\" y=\"-37.8\" font-family=\"Helvetica,sans-Serif\" font-size=\"14.00\">samples = 5</text>\n<text text-anchor=\"start\" x=\"2402\" y=\"-22.8\" font-family=\"Helvetica,sans-Serif\" font-size=\"14.00\">value = [5, 0]</text>\n<text text-anchor=\"start\" x=\"2385\" y=\"-7.8\" font-family=\"Helvetica,sans-Serif\" font-size=\"14.00\">class = Non&#45;stroke</text>\n</g>\n<!-- 39&#45;&gt;41 -->\n<g id=\"edge41\" class=\"edge\">\n<title>39&#45;&gt;41</title>\n<path fill=\"none\" stroke=\"black\" d=\"M2399.45,-103.73C2404.81,-94.97 2410.48,-85.7 2415.86,-76.91\"/>\n<polygon fill=\"black\" stroke=\"black\" points=\"2418.89,-78.66 2421.12,-68.3 2412.92,-75 2418.89,-78.66\"/>\n</g>\n<!-- 43 -->\n<g id=\"node44\" class=\"node\">\n<title>43</title>\n<path fill=\"#eb9f68\" stroke=\"black\" d=\"M2806,-306C2806,-306 2701,-306 2701,-306 2695,-306 2689,-300 2689,-294 2689,-294 2689,-235 2689,-235 2689,-229 2695,-223 2701,-223 2701,-223 2806,-223 2806,-223 2812,-223 2818,-229 2818,-235 2818,-235 2818,-294 2818,-294 2818,-300 2812,-306 2806,-306\"/>\n<text text-anchor=\"start\" x=\"2721.5\" y=\"-290.8\" font-family=\"Helvetica,sans-Serif\" font-size=\"14.00\">age ≤ 73.5</text>\n<text text-anchor=\"start\" x=\"2721.5\" y=\"-275.8\" font-family=\"Helvetica,sans-Serif\" font-size=\"14.00\">gini = 0.31</text>\n<text text-anchor=\"start\" x=\"2708.5\" y=\"-260.8\" font-family=\"Helvetica,sans-Serif\" font-size=\"14.00\">samples = 329</text>\n<text text-anchor=\"start\" x=\"2703\" y=\"-245.8\" font-family=\"Helvetica,sans-Serif\" font-size=\"14.00\">value = [266, 63]</text>\n<text text-anchor=\"start\" x=\"2697\" y=\"-230.8\" font-family=\"Helvetica,sans-Serif\" font-size=\"14.00\">class = Non&#45;stroke</text>\n</g>\n<!-- 42&#45;&gt;43 -->\n<g id=\"edge43\" class=\"edge\">\n<title>42&#45;&gt;43</title>\n<path fill=\"none\" stroke=\"black\" d=\"M2753.5,-341.91C2753.5,-333.65 2753.5,-324.86 2753.5,-316.3\"/>\n<polygon fill=\"black\" stroke=\"black\" points=\"2757,-316.02 2753.5,-306.02 2750,-316.02 2757,-316.02\"/>\n</g>\n<!-- 50 -->\n<g id=\"node51\" class=\"node\">\n<title>50</title>\n<path fill=\"#9ccef2\" stroke=\"black\" d=\"M3088,-306C3088,-306 2947,-306 2947,-306 2941,-306 2935,-300 2935,-294 2935,-294 2935,-235 2935,-235 2935,-229 2941,-223 2947,-223 2947,-223 3088,-223 3088,-223 3094,-223 3100,-229 3100,-235 3100,-235 3100,-294 3100,-294 3100,-300 3094,-306 3088,-306\"/>\n<text text-anchor=\"start\" x=\"2943\" y=\"-290.8\" font-family=\"Helvetica,sans-Serif\" font-size=\"14.00\">smoking_Unknown ≤ 0.5</text>\n<text text-anchor=\"start\" x=\"2982\" y=\"-275.8\" font-family=\"Helvetica,sans-Serif\" font-size=\"14.00\">gini = 0.444</text>\n<text text-anchor=\"start\" x=\"2980\" y=\"-260.8\" font-family=\"Helvetica,sans-Serif\" font-size=\"14.00\">samples = 6</text>\n<text text-anchor=\"start\" x=\"2978\" y=\"-245.8\" font-family=\"Helvetica,sans-Serif\" font-size=\"14.00\">value = [2, 4]</text>\n<text text-anchor=\"start\" x=\"2974.5\" y=\"-230.8\" font-family=\"Helvetica,sans-Serif\" font-size=\"14.00\">class = Stroke</text>\n</g>\n<!-- 42&#45;&gt;50 -->\n<g id=\"edge50\" class=\"edge\">\n<title>42&#45;&gt;50</title>\n<path fill=\"none\" stroke=\"black\" d=\"M2818.08,-353.88C2850.31,-339.6 2889.87,-322.06 2925.23,-306.39\"/>\n<polygon fill=\"black\" stroke=\"black\" points=\"2926.88,-309.49 2934.61,-302.24 2924.04,-303.09 2926.88,-309.49\"/>\n</g>\n<!-- 44 -->\n<g id=\"node45\" class=\"node\">\n<title>44</title>\n<path fill=\"#e89152\" stroke=\"black\" d=\"M2734.5,-187C2734.5,-187 2574.5,-187 2574.5,-187 2568.5,-187 2562.5,-181 2562.5,-175 2562.5,-175 2562.5,-116 2562.5,-116 2562.5,-110 2568.5,-104 2574.5,-104 2574.5,-104 2734.5,-104 2734.5,-104 2740.5,-104 2746.5,-110 2746.5,-116 2746.5,-116 2746.5,-175 2746.5,-175 2746.5,-181 2740.5,-187 2734.5,-187\"/>\n<text text-anchor=\"start\" x=\"2570.5\" y=\"-171.8\" font-family=\"Helvetica,sans-Serif\" font-size=\"14.00\">avg_glucose_level ≤ 244.16</text>\n<text text-anchor=\"start\" x=\"2619\" y=\"-156.8\" font-family=\"Helvetica,sans-Serif\" font-size=\"14.00\">gini = 0.199</text>\n<text text-anchor=\"start\" x=\"2609.5\" y=\"-141.8\" font-family=\"Helvetica,sans-Serif\" font-size=\"14.00\">samples = 116</text>\n<text text-anchor=\"start\" x=\"2604\" y=\"-126.8\" font-family=\"Helvetica,sans-Serif\" font-size=\"14.00\">value = [103, 13]</text>\n<text text-anchor=\"start\" x=\"2598\" y=\"-111.8\" font-family=\"Helvetica,sans-Serif\" font-size=\"14.00\">class = Non&#45;stroke</text>\n</g>\n<!-- 43&#45;&gt;44 -->\n<g id=\"edge44\" class=\"edge\">\n<title>43&#45;&gt;44</title>\n<path fill=\"none\" stroke=\"black\" d=\"M2719.15,-222.91C2711.47,-213.83 2703.26,-204.12 2695.34,-194.77\"/>\n<polygon fill=\"black\" stroke=\"black\" points=\"2697.92,-192.39 2688.79,-187.02 2692.57,-196.92 2697.92,-192.39\"/>\n</g>\n<!-- 47 -->\n<g id=\"node48\" class=\"node\">\n<title>47</title>\n<path fill=\"#eda876\" stroke=\"black\" d=\"M2936.5,-187C2936.5,-187 2776.5,-187 2776.5,-187 2770.5,-187 2764.5,-181 2764.5,-175 2764.5,-175 2764.5,-116 2764.5,-116 2764.5,-110 2770.5,-104 2776.5,-104 2776.5,-104 2936.5,-104 2936.5,-104 2942.5,-104 2948.5,-110 2948.5,-116 2948.5,-116 2948.5,-175 2948.5,-175 2948.5,-181 2942.5,-187 2936.5,-187\"/>\n<text text-anchor=\"start\" x=\"2772.5\" y=\"-171.8\" font-family=\"Helvetica,sans-Serif\" font-size=\"14.00\">avg_glucose_level ≤ 229.75</text>\n<text text-anchor=\"start\" x=\"2821\" y=\"-156.8\" font-family=\"Helvetica,sans-Serif\" font-size=\"14.00\">gini = 0.359</text>\n<text text-anchor=\"start\" x=\"2811.5\" y=\"-141.8\" font-family=\"Helvetica,sans-Serif\" font-size=\"14.00\">samples = 213</text>\n<text text-anchor=\"start\" x=\"2806\" y=\"-126.8\" font-family=\"Helvetica,sans-Serif\" font-size=\"14.00\">value = [163, 50]</text>\n<text text-anchor=\"start\" x=\"2800\" y=\"-111.8\" font-family=\"Helvetica,sans-Serif\" font-size=\"14.00\">class = Non&#45;stroke</text>\n</g>\n<!-- 43&#45;&gt;47 -->\n<g id=\"edge47\" class=\"edge\">\n<title>43&#45;&gt;47</title>\n<path fill=\"none\" stroke=\"black\" d=\"M2789.24,-222.91C2797.22,-213.83 2805.77,-204.12 2814.01,-194.77\"/>\n<polygon fill=\"black\" stroke=\"black\" points=\"2816.85,-196.84 2820.83,-187.02 2811.59,-192.21 2816.85,-196.84\"/>\n</g>\n<!-- 45 -->\n<g id=\"node46\" class=\"node\">\n<title>45</title>\n<path fill=\"#e88f4e\" stroke=\"black\" d=\"M2641,-68C2641,-68 2536,-68 2536,-68 2530,-68 2524,-62 2524,-56 2524,-56 2524,-12 2524,-12 2524,-6 2530,0 2536,0 2536,0 2641,0 2641,0 2647,0 2653,-6 2653,-12 2653,-12 2653,-56 2653,-56 2653,-62 2647,-68 2641,-68\"/>\n<text text-anchor=\"start\" x=\"2553\" y=\"-52.8\" font-family=\"Helvetica,sans-Serif\" font-size=\"14.00\">gini = 0.176</text>\n<text text-anchor=\"start\" x=\"2543.5\" y=\"-37.8\" font-family=\"Helvetica,sans-Serif\" font-size=\"14.00\">samples = 113</text>\n<text text-anchor=\"start\" x=\"2538\" y=\"-22.8\" font-family=\"Helvetica,sans-Serif\" font-size=\"14.00\">value = [102, 11]</text>\n<text text-anchor=\"start\" x=\"2532\" y=\"-7.8\" font-family=\"Helvetica,sans-Serif\" font-size=\"14.00\">class = Non&#45;stroke</text>\n</g>\n<!-- 44&#45;&gt;45 -->\n<g id=\"edge45\" class=\"edge\">\n<title>44&#45;&gt;45</title>\n<path fill=\"none\" stroke=\"black\" d=\"M2629.92,-103.73C2624.65,-94.97 2619.06,-85.7 2613.76,-76.91\"/>\n<polygon fill=\"black\" stroke=\"black\" points=\"2616.73,-75.06 2608.57,-68.3 2610.74,-78.67 2616.73,-75.06\"/>\n</g>\n<!-- 46 -->\n<g id=\"node47\" class=\"node\">\n<title>46</title>\n<path fill=\"#9ccef2\" stroke=\"black\" d=\"M2761.5,-68C2761.5,-68 2683.5,-68 2683.5,-68 2677.5,-68 2671.5,-62 2671.5,-56 2671.5,-56 2671.5,-12 2671.5,-12 2671.5,-6 2677.5,0 2683.5,0 2683.5,0 2761.5,0 2761.5,0 2767.5,0 2773.5,-6 2773.5,-12 2773.5,-12 2773.5,-56 2773.5,-56 2773.5,-62 2767.5,-68 2761.5,-68\"/>\n<text text-anchor=\"start\" x=\"2687\" y=\"-52.8\" font-family=\"Helvetica,sans-Serif\" font-size=\"14.00\">gini = 0.444</text>\n<text text-anchor=\"start\" x=\"2685\" y=\"-37.8\" font-family=\"Helvetica,sans-Serif\" font-size=\"14.00\">samples = 3</text>\n<text text-anchor=\"start\" x=\"2683\" y=\"-22.8\" font-family=\"Helvetica,sans-Serif\" font-size=\"14.00\">value = [1, 2]</text>\n<text text-anchor=\"start\" x=\"2679.5\" y=\"-7.8\" font-family=\"Helvetica,sans-Serif\" font-size=\"14.00\">class = Stroke</text>\n</g>\n<!-- 44&#45;&gt;46 -->\n<g id=\"edge46\" class=\"edge\">\n<title>44&#45;&gt;46</title>\n<path fill=\"none\" stroke=\"black\" d=\"M2679.82,-103.73C2685.26,-94.97 2691.01,-85.7 2696.48,-76.91\"/>\n<polygon fill=\"black\" stroke=\"black\" points=\"2699.52,-78.64 2701.82,-68.3 2693.57,-74.95 2699.52,-78.64\"/>\n</g>\n<!-- 48 -->\n<g id=\"node49\" class=\"node\">\n<title>48</title>\n<path fill=\"#eca572\" stroke=\"black\" d=\"M2909,-68C2909,-68 2804,-68 2804,-68 2798,-68 2792,-62 2792,-56 2792,-56 2792,-12 2792,-12 2792,-6 2798,0 2804,0 2804,0 2909,0 2909,0 2915,0 2921,-6 2921,-12 2921,-12 2921,-56 2921,-56 2921,-62 2915,-68 2909,-68\"/>\n<text text-anchor=\"start\" x=\"2821\" y=\"-52.8\" font-family=\"Helvetica,sans-Serif\" font-size=\"14.00\">gini = 0.348</text>\n<text text-anchor=\"start\" x=\"2811.5\" y=\"-37.8\" font-family=\"Helvetica,sans-Serif\" font-size=\"14.00\">samples = 201</text>\n<text text-anchor=\"start\" x=\"2806\" y=\"-22.8\" font-family=\"Helvetica,sans-Serif\" font-size=\"14.00\">value = [156, 45]</text>\n<text text-anchor=\"start\" x=\"2800\" y=\"-7.8\" font-family=\"Helvetica,sans-Serif\" font-size=\"14.00\">class = Non&#45;stroke</text>\n</g>\n<!-- 47&#45;&gt;48 -->\n<g id=\"edge48\" class=\"edge\">\n<title>47&#45;&gt;48</title>\n<path fill=\"none\" stroke=\"black\" d=\"M2856.5,-103.73C2856.5,-95.52 2856.5,-86.86 2856.5,-78.56\"/>\n<polygon fill=\"black\" stroke=\"black\" points=\"2860,-78.3 2856.5,-68.3 2853,-78.3 2860,-78.3\"/>\n</g>\n<!-- 49 -->\n<g id=\"node50\" class=\"node\">\n<title>49</title>\n<path fill=\"#f8dbc6\" stroke=\"black\" d=\"M3056,-68C3056,-68 2951,-68 2951,-68 2945,-68 2939,-62 2939,-56 2939,-56 2939,-12 2939,-12 2939,-6 2945,0 2951,0 2951,0 3056,0 3056,0 3062,0 3068,-6 3068,-12 3068,-12 3068,-56 3068,-56 3068,-62 3062,-68 3056,-68\"/>\n<text text-anchor=\"start\" x=\"2968\" y=\"-52.8\" font-family=\"Helvetica,sans-Serif\" font-size=\"14.00\">gini = 0.486</text>\n<text text-anchor=\"start\" x=\"2962.5\" y=\"-37.8\" font-family=\"Helvetica,sans-Serif\" font-size=\"14.00\">samples = 12</text>\n<text text-anchor=\"start\" x=\"2964\" y=\"-22.8\" font-family=\"Helvetica,sans-Serif\" font-size=\"14.00\">value = [7, 5]</text>\n<text text-anchor=\"start\" x=\"2947\" y=\"-7.8\" font-family=\"Helvetica,sans-Serif\" font-size=\"14.00\">class = Non&#45;stroke</text>\n</g>\n<!-- 47&#45;&gt;49 -->\n<g id=\"edge49\" class=\"edge\">\n<title>47&#45;&gt;49</title>\n<path fill=\"none\" stroke=\"black\" d=\"M2911.24,-103.73C2924.09,-94.15 2937.77,-83.96 2950.55,-74.44\"/>\n<polygon fill=\"black\" stroke=\"black\" points=\"2952.87,-77.08 2958.8,-68.3 2948.69,-71.47 2952.87,-77.08\"/>\n</g>\n<!-- 51 -->\n<g id=\"node52\" class=\"node\">\n<title>51</title>\n<path fill=\"#399de5\" stroke=\"black\" d=\"M3056.5,-179.5C3056.5,-179.5 2978.5,-179.5 2978.5,-179.5 2972.5,-179.5 2966.5,-173.5 2966.5,-167.5 2966.5,-167.5 2966.5,-123.5 2966.5,-123.5 2966.5,-117.5 2972.5,-111.5 2978.5,-111.5 2978.5,-111.5 3056.5,-111.5 3056.5,-111.5 3062.5,-111.5 3068.5,-117.5 3068.5,-123.5 3068.5,-123.5 3068.5,-167.5 3068.5,-167.5 3068.5,-173.5 3062.5,-179.5 3056.5,-179.5\"/>\n<text text-anchor=\"start\" x=\"2989.5\" y=\"-164.3\" font-family=\"Helvetica,sans-Serif\" font-size=\"14.00\">gini = 0.0</text>\n<text text-anchor=\"start\" x=\"2980\" y=\"-149.3\" font-family=\"Helvetica,sans-Serif\" font-size=\"14.00\">samples = 4</text>\n<text text-anchor=\"start\" x=\"2978\" y=\"-134.3\" font-family=\"Helvetica,sans-Serif\" font-size=\"14.00\">value = [0, 4]</text>\n<text text-anchor=\"start\" x=\"2974.5\" y=\"-119.3\" font-family=\"Helvetica,sans-Serif\" font-size=\"14.00\">class = Stroke</text>\n</g>\n<!-- 50&#45;&gt;51 -->\n<g id=\"edge51\" class=\"edge\">\n<title>50&#45;&gt;51</title>\n<path fill=\"none\" stroke=\"black\" d=\"M3017.5,-222.91C3017.5,-212.2 3017.5,-200.62 3017.5,-189.78\"/>\n<polygon fill=\"black\" stroke=\"black\" points=\"3021,-189.67 3017.5,-179.67 3014,-189.67 3021,-189.67\"/>\n</g>\n<!-- 52 -->\n<g id=\"node53\" class=\"node\">\n<title>52</title>\n<path fill=\"#e58139\" stroke=\"black\" d=\"M3204,-179.5C3204,-179.5 3099,-179.5 3099,-179.5 3093,-179.5 3087,-173.5 3087,-167.5 3087,-167.5 3087,-123.5 3087,-123.5 3087,-117.5 3093,-111.5 3099,-111.5 3099,-111.5 3204,-111.5 3204,-111.5 3210,-111.5 3216,-117.5 3216,-123.5 3216,-123.5 3216,-167.5 3216,-167.5 3216,-173.5 3210,-179.5 3204,-179.5\"/>\n<text text-anchor=\"start\" x=\"3123.5\" y=\"-164.3\" font-family=\"Helvetica,sans-Serif\" font-size=\"14.00\">gini = 0.0</text>\n<text text-anchor=\"start\" x=\"3114\" y=\"-149.3\" font-family=\"Helvetica,sans-Serif\" font-size=\"14.00\">samples = 2</text>\n<text text-anchor=\"start\" x=\"3112\" y=\"-134.3\" font-family=\"Helvetica,sans-Serif\" font-size=\"14.00\">value = [2, 0]</text>\n<text text-anchor=\"start\" x=\"3095\" y=\"-119.3\" font-family=\"Helvetica,sans-Serif\" font-size=\"14.00\">class = Non&#45;stroke</text>\n</g>\n<!-- 50&#45;&gt;52 -->\n<g id=\"edge52\" class=\"edge\">\n<title>50&#45;&gt;52</title>\n<path fill=\"none\" stroke=\"black\" d=\"M3063.99,-222.91C3077.51,-211.1 3092.27,-198.22 3105.75,-186.45\"/>\n<polygon fill=\"black\" stroke=\"black\" points=\"3108.28,-188.88 3113.51,-179.67 3103.68,-183.61 3108.28,-188.88\"/>\n</g>\n</g>\n</svg>\n",
            "text/plain": [
              "<graphviz.sources.Source at 0x7d10fcf8d1d0>"
            ]
          },
          "metadata": {},
          "execution_count": 56
        }
      ]
    },
    {
      "cell_type": "code",
      "source": [
        "from sklearn.metrics import precision_recall_curve, auc\n",
        "from matplotlib import pyplot as plt\n",
        "\n",
        "y_prob = dt.predict_proba(X_test)[:, 1]\n",
        "precision, recall, thresholds = precision_recall_curve(y_test, y_prob)\n",
        "roc_auc = auc(recall, precision)\n",
        "\n",
        "plt.plot(recall, precision, label=f'AUC = {roc_auc:.2f}')\n",
        "plt.xlabel('Recall')\n",
        "plt.ylabel('Precision')\n",
        "plt.legend()\n",
        "plt.show()"
      ],
      "metadata": {
        "id": "mWI1-4pNnQ-d",
        "outputId": "e383dd33-94a9-41f5-e212-19ca68b6ac0a",
        "colab": {
          "base_uri": "https://localhost:8080/",
          "height": 449
        }
      },
      "id": "mWI1-4pNnQ-d",
      "execution_count": 63,
      "outputs": [
        {
          "output_type": "display_data",
          "data": {
            "text/plain": [
              "<Figure size 640x480 with 1 Axes>"
            ],
            "image/png": "[encoded data removed]"
          },
          "metadata": {}
        }
      ]
    },
    {
      "cell_type": "code",
      "source": [
        "from sklearn.ensemble import RandomForestClassifier as RF\n",
        "\n",
        "rf = RF(n_estimators = 100, max_depth = 5, random_state = 0)\n",
        "rf.fit(X_train, y_train)\n",
        "accuracy = rf.score(X_test, y_test)\n",
        "print(f\"Accuracy: {accuracy}\")\n",
        "\n",
        "y_prob = dt.predict_proba(X_test)[:, 1]\n",
        "precision, recall, thresholds = precision_recall_curve(y_test, y_prob)\n",
        "roc_auc = auc(recall, precision)\n",
        "\n",
        "plt.plot(recall, precision, label=f'AUC = {roc_auc:.2f}')\n",
        "plt.xlabel('Recall')\n",
        "plt.ylabel('Precision')\n",
        "plt.legend()\n",
        "plt.show()"
      ],
      "metadata": {
        "id": "-h8t_0LIiffu",
        "outputId": "4bdced68-5eeb-4791-fc4b-65c57c07b251",
        "colab": {
          "base_uri": "https://localhost:8080/",
          "height": 466
        }
      },
      "id": "-h8t_0LIiffu",
      "execution_count": 64,
      "outputs": [
        {
          "output_type": "stream",
          "name": "stdout",
          "text": [
            "Accuracy: 0.9393346379647749\n"
          ]
        },
        {
          "output_type": "display_data",
          "data": {
            "text/plain": [
              "<Figure size 640x480 with 1 Axes>"
            ],
            "image/png": "[encoded data removed]"
          },
          "metadata": {}
        }
      ]
    },
    {
      "cell_type": "code",
      "source": [
        "mlp = MLPClassifier(hidden_layer_sizes = (128, 64), max_iter = 1000, random_state = 0)\n",
        "mlp.fit(X_train, y_train)\n",
        "y_predicted = mlp.predict(X_test)\n",
        "acc = accuracy_score(y_predicted, y_test)\n",
        "print(acc)\n",
        "y_prob = mlp.predict_proba(X_test)[:, 1]\n",
        "fpr, tpr, thresholds = roc_curve(y_test, y_prob)\n",
        "roc_auc = roc_auc_score(y_test, y_prob)\n",
        "print(f\"AUC: {roc_auc}\")"
      ],
      "metadata": {
        "colab": {
          "base_uri": "https://localhost:8080/"
        },
        "id": "1PZtafMRWBTR",
        "outputId": "f147dd5e-62cd-47b1-c268-71cbe4b93828"
      },
      "id": "1PZtafMRWBTR",
      "execution_count": 61,
      "outputs": [
        {
          "output_type": "stream",
          "name": "stdout",
          "text": [
            "0.9403131115459883\n",
            "AUC: 0.8316868279569892\n"
          ]
        }
      ]
    },
    {
      "cell_type": "code",
      "source": [
        "from sklearn.model_selection import KFold, cross_val_score\n",
        "\n",
        "mlp = MLPClassifier(hidden_layer_sizes = (64, 32), max_iter = 1000, random_state = 0)\n",
        "k_folds = KFold(n_splits = 5, shuffle = True, random_state = 0)\n",
        "scores = cross_val_score(mlp, X, y, cv = k_folds)\n",
        "print(scores, scores.mean())"
      ],
      "metadata": {
        "colab": {
          "base_uri": "https://localhost:8080/"
        },
        "id": "crnT6dpWZcve",
        "outputId": "a99c7088-100a-461f-e234-77cea8cf775f"
      },
      "id": "crnT6dpWZcve",
      "execution_count": 10,
      "outputs": [
        {
          "output_type": "stream",
          "name": "stdout",
          "text": [
            "[0.94716243 0.95205479 0.95205479 0.95303327 0.94520548] 0.9499021526418787\n"
          ]
        }
      ]
    }
  ],
  "metadata": {
    "colab": {
      "provenance": [],
      "include_colab_link": true
    },
    "kernelspec": {
      "display_name": "Python 3",
      "name": "python3"
    },
    "language_info": {
      "codemirror_mode": {
        "name": "ipython",
        "version": 3
      },
      "file_extension": ".py",
      "mimetype": "text/x-python",
      "name": "python",
      "nbconvert_exporter": "python",
      "pygments_lexer": "ipython3",
      "version": "3.11.3"
    }
  },
  "nbformat": 4,
  "nbformat_minor": 5
}