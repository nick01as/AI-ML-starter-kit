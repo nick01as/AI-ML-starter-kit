{
 "cells": [
  {
   "cell_type": "markdown",
   "id": "66fa7dd3",
   "metadata": {},
   "source": [
    "# TritonHacks 2025: Introduction to AI/ML Starter Kit Part II: Machine Learning (ML)\n",
    "\n",
    "Welcome to the Intro to AI/ML Starter Kit for TritonHacks 2025! This is the second of two notebooks in this repo, and it focuses on creating ML models."
   ]
  },
  {
   "cell_type": "markdown",
   "id": "5336a773",
   "metadata": {},
   "source": []
  }
 ],
 "metadata": {
  "language_info": {
   "name": "python"
  }
 },
 "nbformat": 4,
 "nbformat_minor": 5
}
